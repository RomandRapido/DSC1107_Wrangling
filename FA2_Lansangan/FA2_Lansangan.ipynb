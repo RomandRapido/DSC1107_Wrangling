{
 "cells": [
  {
   "cell_type": "markdown",
   "id": "2a2cff83-2ec2-4e0c-8ba9-35ff375ab12f",
   "metadata": {},
   "source": [
    "<div style=\"text-align: center;\"> <h3>Data Mining and Wrangling</h3>\n",
    "<h5>Formative Assessment 2</h5>\n",
    "<h5><u>By Romand Lansangan</u></h5>\n",
    "    </div>\n",
    "    \n",
    "---"
   ]
  },
  {
   "cell_type": "code",
   "execution_count": 2,
   "id": "b6dd10cc-5f0d-4e9c-8cbd-0115e683ab33",
   "metadata": {},
   "outputs": [
    {
     "name": "stderr",
     "output_type": "stream",
     "text": [
      "-- \u001b[1mAttaching core tidyverse packages\u001b[22m ------------------------ tidyverse 2.0.0 --\n",
      "\u001b[32mv\u001b[39m \u001b[34mdplyr    \u001b[39m 1.1.4     \u001b[32mv\u001b[39m \u001b[34mreadr    \u001b[39m 2.1.5\n",
      "\u001b[32mv\u001b[39m \u001b[34mforcats  \u001b[39m 1.0.0     \u001b[32mv\u001b[39m \u001b[34mstringr  \u001b[39m 1.5.0\n",
      "\u001b[32mv\u001b[39m \u001b[34mggplot2  \u001b[39m 3.4.2     \u001b[32mv\u001b[39m \u001b[34mtibble   \u001b[39m 3.2.1\n",
      "\u001b[32mv\u001b[39m \u001b[34mlubridate\u001b[39m 1.9.3     \u001b[32mv\u001b[39m \u001b[34mtidyr    \u001b[39m 1.3.1\n",
      "\u001b[32mv\u001b[39m \u001b[34mpurrr    \u001b[39m 1.0.2     \n",
      "-- \u001b[1mConflicts\u001b[22m ------------------------------------------ tidyverse_conflicts() --\n",
      "\u001b[31mx\u001b[39m \u001b[34mdplyr\u001b[39m::\u001b[32mfilter()\u001b[39m masks \u001b[34mstats\u001b[39m::filter()\n",
      "\u001b[31mx\u001b[39m \u001b[34mdplyr\u001b[39m::\u001b[32mlag()\u001b[39m    masks \u001b[34mstats\u001b[39m::lag()\n",
      "\u001b[36mi\u001b[39m Use the conflicted package (\u001b[3m\u001b[34m<http://conflicted.r-lib.org/>\u001b[39m\u001b[23m) to force all conflicts to become errors\n"
     ]
    }
   ],
   "source": [
    "library(tidyverse)\n",
    "library(ggplot2)\n",
    "library(tidyr)\n",
    "options(scipen=0)\n",
    "library(readr)\n",
    "library(ggthemes)"
   ]
  },
  {
   "cell_type": "markdown",
   "id": "2135c7ed-705a-4829-88a2-c384a167a1c9",
   "metadata": {},
   "source": [
    "## Import"
   ]
  },
  {
   "cell_type": "code",
   "execution_count": 3,
   "id": "1b36486d-1e9d-4bd8-a131-bc9c5ced942b",
   "metadata": {},
   "outputs": [
    {
     "name": "stdout",
     "output_type": "stream",
     "text": [
      "\u001b[90m# A tibble: 7,240 x 60\u001b[39m\n",
      "   country  iso2  iso3   year new_sp_m014 new_sp_m1524 new_sp_m2534 new_sp_m3544\n",
      "   \u001b[3m\u001b[90m<chr>\u001b[39m\u001b[23m    \u001b[3m\u001b[90m<chr>\u001b[39m\u001b[23m \u001b[3m\u001b[90m<chr>\u001b[39m\u001b[23m \u001b[3m\u001b[90m<dbl>\u001b[39m\u001b[23m       \u001b[3m\u001b[90m<dbl>\u001b[39m\u001b[23m        \u001b[3m\u001b[90m<dbl>\u001b[39m\u001b[23m        \u001b[3m\u001b[90m<dbl>\u001b[39m\u001b[23m        \u001b[3m\u001b[90m<dbl>\u001b[39m\u001b[23m\n",
      "\u001b[90m 1\u001b[39m Afghani~ AF    AFG    \u001b[4m1\u001b[24m980          \u001b[31mNA\u001b[39m           \u001b[31mNA\u001b[39m           \u001b[31mNA\u001b[39m           \u001b[31mNA\u001b[39m\n",
      "\u001b[90m 2\u001b[39m Afghani~ AF    AFG    \u001b[4m1\u001b[24m981          \u001b[31mNA\u001b[39m           \u001b[31mNA\u001b[39m           \u001b[31mNA\u001b[39m           \u001b[31mNA\u001b[39m\n",
      "\u001b[90m 3\u001b[39m Afghani~ AF    AFG    \u001b[4m1\u001b[24m982          \u001b[31mNA\u001b[39m           \u001b[31mNA\u001b[39m           \u001b[31mNA\u001b[39m           \u001b[31mNA\u001b[39m\n",
      "\u001b[90m 4\u001b[39m Afghani~ AF    AFG    \u001b[4m1\u001b[24m983          \u001b[31mNA\u001b[39m           \u001b[31mNA\u001b[39m           \u001b[31mNA\u001b[39m           \u001b[31mNA\u001b[39m\n",
      "\u001b[90m 5\u001b[39m Afghani~ AF    AFG    \u001b[4m1\u001b[24m984          \u001b[31mNA\u001b[39m           \u001b[31mNA\u001b[39m           \u001b[31mNA\u001b[39m           \u001b[31mNA\u001b[39m\n",
      "\u001b[90m 6\u001b[39m Afghani~ AF    AFG    \u001b[4m1\u001b[24m985          \u001b[31mNA\u001b[39m           \u001b[31mNA\u001b[39m           \u001b[31mNA\u001b[39m           \u001b[31mNA\u001b[39m\n",
      "\u001b[90m 7\u001b[39m Afghani~ AF    AFG    \u001b[4m1\u001b[24m986          \u001b[31mNA\u001b[39m           \u001b[31mNA\u001b[39m           \u001b[31mNA\u001b[39m           \u001b[31mNA\u001b[39m\n",
      "\u001b[90m 8\u001b[39m Afghani~ AF    AFG    \u001b[4m1\u001b[24m987          \u001b[31mNA\u001b[39m           \u001b[31mNA\u001b[39m           \u001b[31mNA\u001b[39m           \u001b[31mNA\u001b[39m\n",
      "\u001b[90m 9\u001b[39m Afghani~ AF    AFG    \u001b[4m1\u001b[24m988          \u001b[31mNA\u001b[39m           \u001b[31mNA\u001b[39m           \u001b[31mNA\u001b[39m           \u001b[31mNA\u001b[39m\n",
      "\u001b[90m10\u001b[39m Afghani~ AF    AFG    \u001b[4m1\u001b[24m989          \u001b[31mNA\u001b[39m           \u001b[31mNA\u001b[39m           \u001b[31mNA\u001b[39m           \u001b[31mNA\u001b[39m\n",
      "\u001b[90m# i 7,230 more rows\u001b[39m\n",
      "\u001b[90m# i 52 more variables: new_sp_m4554 <dbl>, new_sp_m5564 <dbl>,\u001b[39m\n",
      "\u001b[90m#   new_sp_m65 <dbl>, new_sp_f014 <dbl>, new_sp_f1524 <dbl>,\u001b[39m\n",
      "\u001b[90m#   new_sp_f2534 <dbl>, new_sp_f3544 <dbl>, new_sp_f4554 <dbl>,\u001b[39m\n",
      "\u001b[90m#   new_sp_f5564 <dbl>, new_sp_f65 <dbl>, new_sn_m014 <dbl>,\u001b[39m\n",
      "\u001b[90m#   new_sn_m1524 <dbl>, new_sn_m2534 <dbl>, new_sn_m3544 <dbl>,\u001b[39m\n",
      "\u001b[90m#   new_sn_m4554 <dbl>, new_sn_m5564 <dbl>, new_sn_m65 <dbl>, ...\u001b[39m\n"
     ]
    }
   ],
   "source": [
    "df_who <- who\n",
    "print(df_who)"
   ]
  },
  {
   "cell_type": "code",
   "execution_count": 4,
   "id": "6a908843-8223-40f7-8acd-45f4efc78383",
   "metadata": {},
   "outputs": [
    {
     "name": "stdout",
     "output_type": "stream",
     "text": [
      "[1] \"Shape: 266 x 69\"\n",
      "                 Country.Name Country.Code    Indicator.Name Indicator.Code\n",
      "1                       Aruba          ABW Population, total    SP.POP.TOTL\n",
      "2 Africa Eastern and Southern          AFE Population, total    SP.POP.TOTL\n",
      "3                 Afghanistan          AFG Population, total    SP.POP.TOTL\n",
      "      X1960     X1961     X1962     X1963     X1964     X1965     X1966\n",
      "1     54922     55578     56320     57002     57619     58190     58694\n",
      "2 130072080 133534923 137171659 140945536 144904094 149033472 153281203\n",
      "3   9035043   9214083   9404406   9604487   9814318  10036008  10266395\n",
      "      X1967     X1968     X1969     X1970     X1971     X1972     X1973\n",
      "1     58990     59069     59052     58950     58781     58047     58299\n",
      "2 157704381 162329396 167088245 171984985 177022314 182126556 187524135\n",
      "3  10505959  10756922  11017409  11290128  11567667  11853696  12157999\n",
      "      X1974     X1975     X1976     X1977     X1978     X1979     X1980\n",
      "1     58349     58295     58368     58580     58776     59191     59909\n",
      "2 193186642 198914573 204802976 210680842 217074286 223974122 230792729\n",
      "3  12469127  12773954  13059851  13340756  13611441  13655567  13169311\n",
      "      X1981     X1982     X1983     X1984     X1985     X1986     X1987\n",
      "1     60563     61276     62228     62901     61728     59931     59159\n",
      "2 238043099 245822010 253644643 261458202 269450407 277621771 286067346\n",
      "3  11937581  10991378  10917982  11190221  11426852  11420074  11387818\n",
      "      X1988     X1989     X1990     X1991     X1992     X1993     X1994\n",
      "1     59331     60443     62753     65896     69005     73685     77595\n",
      "2 294498625 302939121 311748681 320442961 329082707 338324002 347441809\n",
      "3  11523298  11874088  12045660  12238879  13278974  14943172  16250794\n",
      "      X1995     X1996     X1997     X1998     X1999     X2000     X2001\n",
      "1     79805     83021     86301     88451     89659     90588     91439\n",
      "2 356580375 366138524 375646235 385505757 395750933 406156661 416807868\n",
      "3  17065836  17763266  18452091  19159996  19887785  20130327  20284307\n",
      "      X2002     X2003     X2004     X2005     X2006     X2007     X2008\n",
      "1     92074     93128     95138     97635     99405    100150    100917\n",
      "2 427820358 439173286 450928044 463076637 475606210 488580707 502070763\n",
      "3  21378117  22733049  23560654  24404567  25424094  25909852  26482622\n",
      "      X2009     X2010     X2011     X2012     X2013     X2014     X2015\n",
      "1    101604    101838    102591    104110    105675    106807    107906\n",
      "2 516003448 530308387 544737983 559609961 575202699 590968990 607123269\n",
      "3  27466101  28284089  29347708  30560034  31622704  32792523  33831764\n",
      "      X2016     X2017     X2018     X2019     X2020     X2021     X2022\n",
      "1    108727    108735    108908    109203    108587    107700    107310\n",
      "2 623369401 640058741 657801085 675950189 694446100 713090928 731821393\n",
      "3  34700612  35688935  36743039  37856121  39068979  40000412  40578842\n",
      "      X2023  X\n",
      "1    107359 NA\n",
      "2 750503764 NA\n",
      "3  41454761 NA\n"
     ]
    }
   ],
   "source": [
    "df_pop <- read.csv(\"Population.csv\", skip = 3)\n",
    "print(paste(\"Shape:\",nrow(df_pop), \"x\", ncol(df_pop)))\n",
    "print(head(df_pop, 3))"
   ]
  },
  {
   "cell_type": "markdown",
   "id": "fa848099-66e1-43a1-901f-fad3a093bd89",
   "metadata": {},
   "source": [
    "#### Shapes\n",
    "`population` dataset have *266 rows and 69 columns*\n",
    "\n",
    "`who` dataset have *7240 rows and 60 columns*\n",
    "\n",
    "#### Summary"
   ]
  },
  {
   "cell_type": "code",
   "execution_count": 5,
   "id": "a785e0fd-d69a-4ed2-831a-3e81d0feb160",
   "metadata": {},
   "outputs": [
    {
     "name": "stdout",
     "output_type": "stream",
     "text": [
      "  Country.Name   Country.Code Indicator.Name Indicator.Code          X1960 \n",
      "   \"character\"    \"character\"    \"character\"    \"character\"      \"numeric\" \n",
      "         X1961          X1962          X1963          X1964          X1965 \n",
      "     \"numeric\"      \"numeric\"      \"numeric\"      \"numeric\"      \"numeric\" \n",
      "         X1966          X1967          X1968          X1969          X1970 \n",
      "     \"numeric\"      \"numeric\"      \"numeric\"      \"numeric\"      \"numeric\" \n",
      "         X1971          X1972          X1973          X1974          X1975 \n",
      "     \"numeric\"      \"numeric\"      \"numeric\"      \"numeric\"      \"numeric\" \n",
      "         X1976          X1977          X1978          X1979          X1980 \n",
      "     \"numeric\"      \"numeric\"      \"numeric\"      \"numeric\"      \"numeric\" \n",
      "         X1981          X1982          X1983          X1984          X1985 \n",
      "     \"numeric\"      \"numeric\"      \"numeric\"      \"numeric\"      \"numeric\" \n",
      "         X1986          X1987          X1988          X1989          X1990 \n",
      "     \"numeric\"      \"numeric\"      \"numeric\"      \"numeric\"      \"numeric\" \n",
      "         X1991          X1992          X1993          X1994          X1995 \n",
      "     \"numeric\"      \"numeric\"      \"numeric\"      \"numeric\"      \"numeric\" \n",
      "         X1996          X1997          X1998          X1999          X2000 \n",
      "     \"numeric\"      \"numeric\"      \"numeric\"      \"numeric\"      \"numeric\" \n",
      "         X2001          X2002          X2003          X2004          X2005 \n",
      "     \"numeric\"      \"numeric\"      \"numeric\"      \"numeric\"      \"numeric\" \n",
      "         X2006          X2007          X2008          X2009          X2010 \n",
      "     \"numeric\"      \"numeric\"      \"numeric\"      \"numeric\"      \"numeric\" \n",
      "         X2011          X2012          X2013          X2014          X2015 \n",
      "     \"numeric\"      \"numeric\"      \"numeric\"      \"numeric\"      \"numeric\" \n",
      "         X2016          X2017          X2018          X2019          X2020 \n",
      "     \"numeric\"      \"numeric\"      \"numeric\"      \"numeric\"      \"numeric\" \n",
      "         X2021          X2022          X2023              X \n",
      "     \"numeric\"      \"numeric\"      \"numeric\"      \"logical\" \n"
     ]
    }
   ],
   "source": [
    "print(sapply(df_pop, class))"
   ]
  },
  {
   "cell_type": "code",
   "execution_count": 6,
   "id": "1b1da074-f671-4905-980c-dbf2bc4adfd9",
   "metadata": {},
   "outputs": [
    {
     "name": "stdout",
     "output_type": "stream",
     "text": [
      "  Country.Name   Country.Code Indicator.Name Indicator.Code          X1960 \n",
      "             0              0              0              0              2 \n",
      "         X1961          X1962          X1963          X1964          X1965 \n",
      "             2              2              2              2              2 \n",
      "         X1966          X1967          X1968          X1969          X1970 \n",
      "             2              2              2              2              2 \n",
      "         X1971          X1972          X1973          X1974          X1975 \n",
      "             2              2              2              2              2 \n",
      "         X1976          X1977          X1978          X1979          X1980 \n",
      "             2              2              2              2              2 \n",
      "         X1981          X1982          X1983          X1984          X1985 \n",
      "             2              2              2              2              2 \n",
      "         X1986          X1987          X1988          X1989          X1990 \n",
      "             2              2              2              2              1 \n",
      "         X1991          X1992          X1993          X1994          X1995 \n",
      "             1              1              1              1              1 \n",
      "         X1996          X1997          X1998          X1999          X2000 \n",
      "             1              1              1              1              1 \n",
      "         X2001          X2002          X2003          X2004          X2005 \n",
      "             1              1              1              1              1 \n",
      "         X2006          X2007          X2008          X2009          X2010 \n",
      "             1              1              1              1              1 \n",
      "         X2011          X2012          X2013          X2014          X2015 \n",
      "             1              1              1              1              1 \n",
      "         X2016          X2017          X2018          X2019          X2020 \n",
      "             1              1              1              1              1 \n",
      "         X2021          X2022          X2023              X \n",
      "             1              1              1            266 \n"
     ]
    }
   ],
   "source": [
    "print(sapply(df_pop, function(x) sum(is.na(x))))"
   ]
  },
  {
   "cell_type": "code",
   "execution_count": 7,
   "id": "fd327566-1d6e-4bde-b660-15e5b3dfd0e5",
   "metadata": {},
   "outputs": [
    {
     "name": "stdout",
     "output_type": "stream",
     "text": [
      "  [1] \"Not classified\"     \"West Bank and Gaza\" \"INX\"               \n",
      "  [4] \"PSE\"                \"Population, total\"  \"Population, total\" \n",
      "  [7] \"SP.POP.TOTL\"        \"SP.POP.TOTL\"        NA                  \n",
      " [10] NA                   NA                   NA                  \n",
      " [13] NA                   NA                   NA                  \n",
      " [16] NA                   NA                   NA                  \n",
      " [19] NA                   NA                   NA                  \n",
      " [22] NA                   NA                   NA                  \n",
      " [25] NA                   NA                   NA                  \n",
      " [28] NA                   NA                   NA                  \n",
      " [31] NA                   NA                   NA                  \n",
      " [34] NA                   NA                   NA                  \n",
      " [37] NA                   NA                   NA                  \n",
      " [40] NA                   NA                   NA                  \n",
      " [43] NA                   NA                   NA                  \n",
      " [46] NA                   NA                   NA                  \n",
      " [49] NA                   NA                   NA                  \n",
      " [52] NA                   NA                   NA                  \n",
      " [55] NA                   NA                   NA                  \n",
      " [58] NA                   NA                   NA                  \n",
      " [61] NA                   NA                   NA                  \n",
      " [64] NA                   NA                   NA                  \n",
      " [67] NA                   NA                   NA                  \n",
      " [70] \"   1978248\"         NA                   \"   2068845\"        \n",
      " [73] NA                   \"   2163591\"         NA                  \n",
      " [76] \"   2262676\"         NA                   \"   2366298\"        \n",
      " [79] NA                   \"   2474666\"         NA                  \n",
      " [82] \"   2587997\"         NA                   \"   2706518\"        \n",
      " [85] NA                   \"   2776568\"         NA                  \n",
      " [88] \"   2848431\"         NA                   \"   2922153\"        \n",
      " [91] NA                   \"   2997784\"         NA                  \n",
      " [94] \"   3075373\"         NA                   \"   3154969\"        \n",
      " [97] NA                   \"   3236626\"         NA                  \n",
      "[100] \"   3320396\"         NA                   \"   3406334\"        \n",
      "[103] NA                   \"   3494496\"         NA                  \n",
      "[106] \"   3591977\"         NA                   \"   3689099\"        \n",
      "[109] NA                   \"   3786161\"         NA                  \n",
      "[112] \"   3882986\"         NA                   \"   3979998\"        \n",
      "[115] NA                   \"   4076708\"         NA                  \n",
      "[118] \"   4173398\"         NA                   \"   4270092\"        \n",
      "[121] NA                   \"   4367088\"         NA                  \n",
      "[124] \"   4454805\"         NA                   \"   4569087\"        \n",
      "[127] NA                   \"   4685306\"         NA                  \n",
      "[130] \"   4803269\"         NA                   \"   4922749\"        \n",
      "[133] NA                   \"   5043612\"         NA                  \n",
      "[136] \"   5165775\"         NA                   NA                  \n"
     ]
    }
   ],
   "source": [
    "# df_pop[]\n",
    "print(df_pop[is.na(df_pop[\"X1967\"])])"
   ]
  },
  {
   "cell_type": "markdown",
   "id": "0d08824f-dfe0-4015-94ad-b559b63c75f3",
   "metadata": {},
   "source": [
    "Looking at the rows with NA values, it appears that they aren't country at all. So let's drop these, along with column `X` that has 266 null values. Also, it is wise to remove the \"X\" values in the columns with year."
   ]
  },
  {
   "cell_type": "code",
   "execution_count": 8,
   "id": "fd57aef6-41fc-4271-8b34-c48e32f2d704",
   "metadata": {},
   "outputs": [
    {
     "name": "stdout",
     "output_type": "stream",
     "text": [
      "  Country.Name   Country.Code Indicator.Name Indicator.Code           1960 \n",
      "             0              0              0              0              0 \n",
      "          1961           1962           1963           1964           1965 \n",
      "             0              0              0              0              0 \n",
      "          1966           1967           1968           1969           1970 \n",
      "             0              0              0              0              0 \n",
      "          1971           1972           1973           1974           1975 \n",
      "             0              0              0              0              0 \n",
      "          1976           1977           1978           1979           1980 \n",
      "             0              0              0              0              0 \n",
      "          1981           1982           1983           1984           1985 \n",
      "             0              0              0              0              0 \n",
      "          1986           1987           1988           1989           1990 \n",
      "             0              0              0              0              0 \n",
      "          1991           1992           1993           1994           1995 \n",
      "             0              0              0              0              0 \n",
      "          1996           1997           1998           1999           2000 \n",
      "             0              0              0              0              0 \n",
      "          2001           2002           2003           2004           2005 \n",
      "             0              0              0              0              0 \n",
      "          2006           2007           2008           2009           2010 \n",
      "             0              0              0              0              0 \n",
      "          2011           2012           2013           2014           2015 \n",
      "             0              0              0              0              0 \n",
      "          2016           2017           2018           2019           2020 \n",
      "             0              0              0              0              0 \n",
      "          2021           2022           2023 \n",
      "             0              0              0 \n"
     ]
    }
   ],
   "source": [
    "df_pop2 <- df_pop %>%\n",
    "    filter(!is.na(X1967)) %>%\n",
    "    select(-X)\n",
    "popped_x <- c()\n",
    "for (col in colnames(df_pop2)){\n",
    "    popped_x <- append(popped_x, gsub(\"^X\", \"\", col))\n",
    "}\n",
    "colnames(df_pop2) <- popped_x\n",
    "print(sapply(df_pop2, function(x) sum(is.na(x))))"
   ]
  },
  {
   "cell_type": "markdown",
   "id": "b270e63d-5ad9-4e1e-ad75-2a550cc21785",
   "metadata": {},
   "source": [
    "## Data Transformation\n",
    "\n",
    "### `WHO` Dataset\n",
    "It is more likely that the columns of `who` dataset are values instead of variables. Let's explore this more."
   ]
  },
  {
   "cell_type": "code",
   "execution_count": 9,
   "id": "94a2fc76-9ce9-4c77-b8f3-68c1ec48e1ee",
   "metadata": {
    "scrolled": true
   },
   "outputs": [
    {
     "data": {
      "text/html": [
       "<table class=\"dataframe\">\n",
       "<caption>A tibble: 10 × 6</caption>\n",
       "<thead>\n",
       "\t<tr><th scope=col>country</th><th scope=col>iso2</th><th scope=col>iso3</th><th scope=col>year</th><th scope=col>variables</th><th scope=col>cases</th></tr>\n",
       "\t<tr><th scope=col>&lt;chr&gt;</th><th scope=col>&lt;chr&gt;</th><th scope=col>&lt;chr&gt;</th><th scope=col>&lt;dbl&gt;</th><th scope=col>&lt;chr&gt;</th><th scope=col>&lt;dbl&gt;</th></tr>\n",
       "</thead>\n",
       "<tbody>\n",
       "\t<tr><td>Afghanistan</td><td>AF</td><td>AFG</td><td>1997</td><td>new_sp_m014 </td><td> 0</td></tr>\n",
       "\t<tr><td>Afghanistan</td><td>AF</td><td>AFG</td><td>1997</td><td>new_sp_m1524</td><td>10</td></tr>\n",
       "\t<tr><td>Afghanistan</td><td>AF</td><td>AFG</td><td>1997</td><td>new_sp_m2534</td><td> 6</td></tr>\n",
       "\t<tr><td>Afghanistan</td><td>AF</td><td>AFG</td><td>1997</td><td>new_sp_m3544</td><td> 3</td></tr>\n",
       "\t<tr><td>Afghanistan</td><td>AF</td><td>AFG</td><td>1997</td><td>new_sp_m4554</td><td> 5</td></tr>\n",
       "\t<tr><td>Afghanistan</td><td>AF</td><td>AFG</td><td>1997</td><td>new_sp_m5564</td><td> 2</td></tr>\n",
       "\t<tr><td>Afghanistan</td><td>AF</td><td>AFG</td><td>1997</td><td>new_sp_m65  </td><td> 0</td></tr>\n",
       "\t<tr><td>Afghanistan</td><td>AF</td><td>AFG</td><td>1997</td><td>new_sp_f014 </td><td> 5</td></tr>\n",
       "\t<tr><td>Afghanistan</td><td>AF</td><td>AFG</td><td>1997</td><td>new_sp_f1524</td><td>38</td></tr>\n",
       "\t<tr><td>Afghanistan</td><td>AF</td><td>AFG</td><td>1997</td><td>new_sp_f2534</td><td>36</td></tr>\n",
       "</tbody>\n",
       "</table>\n"
      ],
      "text/latex": [
       "A tibble: 10 × 6\n",
       "\\begin{tabular}{llllll}\n",
       " country & iso2 & iso3 & year & variables & cases\\\\\n",
       " <chr> & <chr> & <chr> & <dbl> & <chr> & <dbl>\\\\\n",
       "\\hline\n",
       "\t Afghanistan & AF & AFG & 1997 & new\\_sp\\_m014  &  0\\\\\n",
       "\t Afghanistan & AF & AFG & 1997 & new\\_sp\\_m1524 & 10\\\\\n",
       "\t Afghanistan & AF & AFG & 1997 & new\\_sp\\_m2534 &  6\\\\\n",
       "\t Afghanistan & AF & AFG & 1997 & new\\_sp\\_m3544 &  3\\\\\n",
       "\t Afghanistan & AF & AFG & 1997 & new\\_sp\\_m4554 &  5\\\\\n",
       "\t Afghanistan & AF & AFG & 1997 & new\\_sp\\_m5564 &  2\\\\\n",
       "\t Afghanistan & AF & AFG & 1997 & new\\_sp\\_m65   &  0\\\\\n",
       "\t Afghanistan & AF & AFG & 1997 & new\\_sp\\_f014  &  5\\\\\n",
       "\t Afghanistan & AF & AFG & 1997 & new\\_sp\\_f1524 & 38\\\\\n",
       "\t Afghanistan & AF & AFG & 1997 & new\\_sp\\_f2534 & 36\\\\\n",
       "\\end{tabular}\n"
      ],
      "text/markdown": [
       "\n",
       "A tibble: 10 × 6\n",
       "\n",
       "| country &lt;chr&gt; | iso2 &lt;chr&gt; | iso3 &lt;chr&gt; | year &lt;dbl&gt; | variables &lt;chr&gt; | cases &lt;dbl&gt; |\n",
       "|---|---|---|---|---|---|\n",
       "| Afghanistan | AF | AFG | 1997 | new_sp_m014  |  0 |\n",
       "| Afghanistan | AF | AFG | 1997 | new_sp_m1524 | 10 |\n",
       "| Afghanistan | AF | AFG | 1997 | new_sp_m2534 |  6 |\n",
       "| Afghanistan | AF | AFG | 1997 | new_sp_m3544 |  3 |\n",
       "| Afghanistan | AF | AFG | 1997 | new_sp_m4554 |  5 |\n",
       "| Afghanistan | AF | AFG | 1997 | new_sp_m5564 |  2 |\n",
       "| Afghanistan | AF | AFG | 1997 | new_sp_m65   |  0 |\n",
       "| Afghanistan | AF | AFG | 1997 | new_sp_f014  |  5 |\n",
       "| Afghanistan | AF | AFG | 1997 | new_sp_f1524 | 38 |\n",
       "| Afghanistan | AF | AFG | 1997 | new_sp_f2534 | 36 |\n",
       "\n"
      ],
      "text/plain": [
       "   country     iso2 iso3 year variables    cases\n",
       "1  Afghanistan AF   AFG  1997 new_sp_m014   0   \n",
       "2  Afghanistan AF   AFG  1997 new_sp_m1524 10   \n",
       "3  Afghanistan AF   AFG  1997 new_sp_m2534  6   \n",
       "4  Afghanistan AF   AFG  1997 new_sp_m3544  3   \n",
       "5  Afghanistan AF   AFG  1997 new_sp_m4554  5   \n",
       "6  Afghanistan AF   AFG  1997 new_sp_m5564  2   \n",
       "7  Afghanistan AF   AFG  1997 new_sp_m65    0   \n",
       "8  Afghanistan AF   AFG  1997 new_sp_f014   5   \n",
       "9  Afghanistan AF   AFG  1997 new_sp_f1524 38   \n",
       "10 Afghanistan AF   AFG  1997 new_sp_f2534 36   "
      ]
     },
     "metadata": {},
     "output_type": "display_data"
    }
   ],
   "source": [
    "df_who2 <- df_who %>%\n",
    "    pivot_longer(cols=-c(1:4), names_to=\"variables\", values_to=\"cases\", values_drop_na=TRUE)\n",
    "head(df_who2, 10)"
   ]
  },
  {
   "cell_type": "code",
   "execution_count": 10,
   "id": "f42a5c66-83a1-4144-b781-69b8aeefdf34",
   "metadata": {},
   "outputs": [
    {
     "data": {
      "text/html": [
       "<style>\n",
       ".list-inline {list-style: none; margin:0; padding: 0}\n",
       ".list-inline>li {display: inline-block}\n",
       ".list-inline>li:not(:last-child)::after {content: \"\\00b7\"; padding: 0 .5ex}\n",
       "</style>\n",
       "<ol class=list-inline><li>'new_sp_m014'</li><li>'new_sp_m1524'</li><li>'new_sp_m2534'</li><li>'new_sp_m3544'</li><li>'new_sp_m4554'</li><li>'new_sp_m5564'</li><li>'new_sp_m65'</li><li>'new_sp_f014'</li><li>'new_sp_f1524'</li><li>'new_sp_f2534'</li><li>'new_sp_f3544'</li><li>'new_sp_f4554'</li><li>'new_sp_f5564'</li><li>'new_sp_f65'</li><li>'new_sn_m014'</li><li>'new_sn_m1524'</li><li>'new_sn_m2534'</li><li>'new_sn_m3544'</li><li>'new_sn_m4554'</li><li>'new_sn_m5564'</li><li>'new_sn_m65'</li><li>'new_ep_m014'</li><li>'new_ep_m1524'</li><li>'new_ep_m2534'</li><li>'new_ep_m3544'</li><li>'new_ep_m4554'</li><li>'new_ep_m5564'</li><li>'new_ep_m65'</li><li>'new_sn_f014'</li><li>'newrel_m014'</li><li>'newrel_f014'</li><li>'new_sn_f1524'</li><li>'new_sn_f2534'</li><li>'new_sn_f3544'</li><li>'new_sn_f4554'</li><li>'new_sn_f5564'</li><li>'new_sn_f65'</li><li>'new_ep_f014'</li><li>'new_ep_f1524'</li><li>'new_ep_f2534'</li><li>'new_ep_f3544'</li><li>'new_ep_f4554'</li><li>'new_ep_f5564'</li><li>'new_ep_f65'</li><li>'newrel_m1524'</li><li>'newrel_m2534'</li><li>'newrel_m3544'</li><li>'newrel_m4554'</li><li>'newrel_m5564'</li><li>'newrel_m65'</li><li>'newrel_f1524'</li><li>'newrel_f2534'</li><li>'newrel_f3544'</li><li>'newrel_f4554'</li><li>'newrel_f5564'</li><li>'newrel_f65'</li></ol>\n"
      ],
      "text/latex": [
       "\\begin{enumerate*}\n",
       "\\item 'new\\_sp\\_m014'\n",
       "\\item 'new\\_sp\\_m1524'\n",
       "\\item 'new\\_sp\\_m2534'\n",
       "\\item 'new\\_sp\\_m3544'\n",
       "\\item 'new\\_sp\\_m4554'\n",
       "\\item 'new\\_sp\\_m5564'\n",
       "\\item 'new\\_sp\\_m65'\n",
       "\\item 'new\\_sp\\_f014'\n",
       "\\item 'new\\_sp\\_f1524'\n",
       "\\item 'new\\_sp\\_f2534'\n",
       "\\item 'new\\_sp\\_f3544'\n",
       "\\item 'new\\_sp\\_f4554'\n",
       "\\item 'new\\_sp\\_f5564'\n",
       "\\item 'new\\_sp\\_f65'\n",
       "\\item 'new\\_sn\\_m014'\n",
       "\\item 'new\\_sn\\_m1524'\n",
       "\\item 'new\\_sn\\_m2534'\n",
       "\\item 'new\\_sn\\_m3544'\n",
       "\\item 'new\\_sn\\_m4554'\n",
       "\\item 'new\\_sn\\_m5564'\n",
       "\\item 'new\\_sn\\_m65'\n",
       "\\item 'new\\_ep\\_m014'\n",
       "\\item 'new\\_ep\\_m1524'\n",
       "\\item 'new\\_ep\\_m2534'\n",
       "\\item 'new\\_ep\\_m3544'\n",
       "\\item 'new\\_ep\\_m4554'\n",
       "\\item 'new\\_ep\\_m5564'\n",
       "\\item 'new\\_ep\\_m65'\n",
       "\\item 'new\\_sn\\_f014'\n",
       "\\item 'newrel\\_m014'\n",
       "\\item 'newrel\\_f014'\n",
       "\\item 'new\\_sn\\_f1524'\n",
       "\\item 'new\\_sn\\_f2534'\n",
       "\\item 'new\\_sn\\_f3544'\n",
       "\\item 'new\\_sn\\_f4554'\n",
       "\\item 'new\\_sn\\_f5564'\n",
       "\\item 'new\\_sn\\_f65'\n",
       "\\item 'new\\_ep\\_f014'\n",
       "\\item 'new\\_ep\\_f1524'\n",
       "\\item 'new\\_ep\\_f2534'\n",
       "\\item 'new\\_ep\\_f3544'\n",
       "\\item 'new\\_ep\\_f4554'\n",
       "\\item 'new\\_ep\\_f5564'\n",
       "\\item 'new\\_ep\\_f65'\n",
       "\\item 'newrel\\_m1524'\n",
       "\\item 'newrel\\_m2534'\n",
       "\\item 'newrel\\_m3544'\n",
       "\\item 'newrel\\_m4554'\n",
       "\\item 'newrel\\_m5564'\n",
       "\\item 'newrel\\_m65'\n",
       "\\item 'newrel\\_f1524'\n",
       "\\item 'newrel\\_f2534'\n",
       "\\item 'newrel\\_f3544'\n",
       "\\item 'newrel\\_f4554'\n",
       "\\item 'newrel\\_f5564'\n",
       "\\item 'newrel\\_f65'\n",
       "\\end{enumerate*}\n"
      ],
      "text/markdown": [
       "1. 'new_sp_m014'\n",
       "2. 'new_sp_m1524'\n",
       "3. 'new_sp_m2534'\n",
       "4. 'new_sp_m3544'\n",
       "5. 'new_sp_m4554'\n",
       "6. 'new_sp_m5564'\n",
       "7. 'new_sp_m65'\n",
       "8. 'new_sp_f014'\n",
       "9. 'new_sp_f1524'\n",
       "10. 'new_sp_f2534'\n",
       "11. 'new_sp_f3544'\n",
       "12. 'new_sp_f4554'\n",
       "13. 'new_sp_f5564'\n",
       "14. 'new_sp_f65'\n",
       "15. 'new_sn_m014'\n",
       "16. 'new_sn_m1524'\n",
       "17. 'new_sn_m2534'\n",
       "18. 'new_sn_m3544'\n",
       "19. 'new_sn_m4554'\n",
       "20. 'new_sn_m5564'\n",
       "21. 'new_sn_m65'\n",
       "22. 'new_ep_m014'\n",
       "23. 'new_ep_m1524'\n",
       "24. 'new_ep_m2534'\n",
       "25. 'new_ep_m3544'\n",
       "26. 'new_ep_m4554'\n",
       "27. 'new_ep_m5564'\n",
       "28. 'new_ep_m65'\n",
       "29. 'new_sn_f014'\n",
       "30. 'newrel_m014'\n",
       "31. 'newrel_f014'\n",
       "32. 'new_sn_f1524'\n",
       "33. 'new_sn_f2534'\n",
       "34. 'new_sn_f3544'\n",
       "35. 'new_sn_f4554'\n",
       "36. 'new_sn_f5564'\n",
       "37. 'new_sn_f65'\n",
       "38. 'new_ep_f014'\n",
       "39. 'new_ep_f1524'\n",
       "40. 'new_ep_f2534'\n",
       "41. 'new_ep_f3544'\n",
       "42. 'new_ep_f4554'\n",
       "43. 'new_ep_f5564'\n",
       "44. 'new_ep_f65'\n",
       "45. 'newrel_m1524'\n",
       "46. 'newrel_m2534'\n",
       "47. 'newrel_m3544'\n",
       "48. 'newrel_m4554'\n",
       "49. 'newrel_m5564'\n",
       "50. 'newrel_m65'\n",
       "51. 'newrel_f1524'\n",
       "52. 'newrel_f2534'\n",
       "53. 'newrel_f3544'\n",
       "54. 'newrel_f4554'\n",
       "55. 'newrel_f5564'\n",
       "56. 'newrel_f65'\n",
       "\n",
       "\n"
      ],
      "text/plain": [
       " [1] \"new_sp_m014\"  \"new_sp_m1524\" \"new_sp_m2534\" \"new_sp_m3544\" \"new_sp_m4554\"\n",
       " [6] \"new_sp_m5564\" \"new_sp_m65\"   \"new_sp_f014\"  \"new_sp_f1524\" \"new_sp_f2534\"\n",
       "[11] \"new_sp_f3544\" \"new_sp_f4554\" \"new_sp_f5564\" \"new_sp_f65\"   \"new_sn_m014\" \n",
       "[16] \"new_sn_m1524\" \"new_sn_m2534\" \"new_sn_m3544\" \"new_sn_m4554\" \"new_sn_m5564\"\n",
       "[21] \"new_sn_m65\"   \"new_ep_m014\"  \"new_ep_m1524\" \"new_ep_m2534\" \"new_ep_m3544\"\n",
       "[26] \"new_ep_m4554\" \"new_ep_m5564\" \"new_ep_m65\"   \"new_sn_f014\"  \"newrel_m014\" \n",
       "[31] \"newrel_f014\"  \"new_sn_f1524\" \"new_sn_f2534\" \"new_sn_f3544\" \"new_sn_f4554\"\n",
       "[36] \"new_sn_f5564\" \"new_sn_f65\"   \"new_ep_f014\"  \"new_ep_f1524\" \"new_ep_f2534\"\n",
       "[41] \"new_ep_f3544\" \"new_ep_f4554\" \"new_ep_f5564\" \"new_ep_f65\"   \"newrel_m1524\"\n",
       "[46] \"newrel_m2534\" \"newrel_m3544\" \"newrel_m4554\" \"newrel_m5564\" \"newrel_m65\"  \n",
       "[51] \"newrel_f1524\" \"newrel_f2534\" \"newrel_f3544\" \"newrel_f4554\" \"newrel_f5564\"\n",
       "[56] \"newrel_f65\"  "
      ]
     },
     "metadata": {},
     "output_type": "display_data"
    }
   ],
   "source": [
    "unique(df_who2$variables)"
   ]
  },
  {
   "cell_type": "markdown",
   "id": "cc857695-7e9a-418d-8570-9f74c7ff62f8",
   "metadata": {},
   "source": [
    "##### Data Structure\n",
    "Looking the variables columns, it appears that there is a clear structure of values. There is however peculiar values by the end that includes the word \"newrel.\" This doesn't make sense because all other values are divided into three. \n",
    "\n",
    "Fortunately there exist a data dictionary in [GitHub](https://github.com/GTB-TME/gtbreport2024/blob/main/dynamic/TB_data_dictionary_2022-05-31.csv).\n",
    "\"newrel\" as it turns out mean \"New and Relapse cases.\" Separating \"new\" and \"rel\" should be fine for this alligns with the structure of the rest of the values under `variables` column."
   ]
  },
  {
   "cell_type": "code",
   "execution_count": 11,
   "id": "e93cc14d-540d-4c3a-8a79-be9bdb2d8632",
   "metadata": {},
   "outputs": [
    {
     "data": {
      "text/html": [
       "<style>\n",
       ".list-inline {list-style: none; margin:0; padding: 0}\n",
       ".list-inline>li {display: inline-block}\n",
       ".list-inline>li:not(:last-child)::after {content: \"\\00b7\"; padding: 0 .5ex}\n",
       "</style>\n",
       "<ol class=list-inline><li>'new_sp_m014'</li><li>'new_sp_m1524'</li><li>'new_sp_m2534'</li><li>'new_sp_m3544'</li><li>'new_sp_m4554'</li><li>'new_sp_m5564'</li><li>'new_sp_m65'</li><li>'new_sp_f014'</li><li>'new_sp_f1524'</li><li>'new_sp_f2534'</li><li>'new_sp_f3544'</li><li>'new_sp_f4554'</li><li>'new_sp_f5564'</li><li>'new_sp_f65'</li><li>'new_sn_m014'</li><li>'new_sn_m1524'</li><li>'new_sn_m2534'</li><li>'new_sn_m3544'</li><li>'new_sn_m4554'</li><li>'new_sn_m5564'</li><li>'new_sn_m65'</li><li>'new_ep_m014'</li><li>'new_ep_m1524'</li><li>'new_ep_m2534'</li><li>'new_ep_m3544'</li><li>'new_ep_m4554'</li><li>'new_ep_m5564'</li><li>'new_ep_m65'</li><li>'new_sn_f014'</li><li>'new_rel_m014'</li><li>'new_rel_f014'</li><li>'new_sn_f1524'</li><li>'new_sn_f2534'</li><li>'new_sn_f3544'</li><li>'new_sn_f4554'</li><li>'new_sn_f5564'</li><li>'new_sn_f65'</li><li>'new_ep_f014'</li><li>'new_ep_f1524'</li><li>'new_ep_f2534'</li><li>'new_ep_f3544'</li><li>'new_ep_f4554'</li><li>'new_ep_f5564'</li><li>'new_ep_f65'</li><li>'new_rel_m1524'</li><li>'new_rel_m2534'</li><li>'new_rel_m3544'</li><li>'new_rel_m4554'</li><li>'new_rel_m5564'</li><li>'new_rel_m65'</li><li>'new_rel_f1524'</li><li>'new_rel_f2534'</li><li>'new_rel_f3544'</li><li>'new_rel_f4554'</li><li>'new_rel_f5564'</li><li>'new_rel_f65'</li></ol>\n"
      ],
      "text/latex": [
       "\\begin{enumerate*}\n",
       "\\item 'new\\_sp\\_m014'\n",
       "\\item 'new\\_sp\\_m1524'\n",
       "\\item 'new\\_sp\\_m2534'\n",
       "\\item 'new\\_sp\\_m3544'\n",
       "\\item 'new\\_sp\\_m4554'\n",
       "\\item 'new\\_sp\\_m5564'\n",
       "\\item 'new\\_sp\\_m65'\n",
       "\\item 'new\\_sp\\_f014'\n",
       "\\item 'new\\_sp\\_f1524'\n",
       "\\item 'new\\_sp\\_f2534'\n",
       "\\item 'new\\_sp\\_f3544'\n",
       "\\item 'new\\_sp\\_f4554'\n",
       "\\item 'new\\_sp\\_f5564'\n",
       "\\item 'new\\_sp\\_f65'\n",
       "\\item 'new\\_sn\\_m014'\n",
       "\\item 'new\\_sn\\_m1524'\n",
       "\\item 'new\\_sn\\_m2534'\n",
       "\\item 'new\\_sn\\_m3544'\n",
       "\\item 'new\\_sn\\_m4554'\n",
       "\\item 'new\\_sn\\_m5564'\n",
       "\\item 'new\\_sn\\_m65'\n",
       "\\item 'new\\_ep\\_m014'\n",
       "\\item 'new\\_ep\\_m1524'\n",
       "\\item 'new\\_ep\\_m2534'\n",
       "\\item 'new\\_ep\\_m3544'\n",
       "\\item 'new\\_ep\\_m4554'\n",
       "\\item 'new\\_ep\\_m5564'\n",
       "\\item 'new\\_ep\\_m65'\n",
       "\\item 'new\\_sn\\_f014'\n",
       "\\item 'new\\_rel\\_m014'\n",
       "\\item 'new\\_rel\\_f014'\n",
       "\\item 'new\\_sn\\_f1524'\n",
       "\\item 'new\\_sn\\_f2534'\n",
       "\\item 'new\\_sn\\_f3544'\n",
       "\\item 'new\\_sn\\_f4554'\n",
       "\\item 'new\\_sn\\_f5564'\n",
       "\\item 'new\\_sn\\_f65'\n",
       "\\item 'new\\_ep\\_f014'\n",
       "\\item 'new\\_ep\\_f1524'\n",
       "\\item 'new\\_ep\\_f2534'\n",
       "\\item 'new\\_ep\\_f3544'\n",
       "\\item 'new\\_ep\\_f4554'\n",
       "\\item 'new\\_ep\\_f5564'\n",
       "\\item 'new\\_ep\\_f65'\n",
       "\\item 'new\\_rel\\_m1524'\n",
       "\\item 'new\\_rel\\_m2534'\n",
       "\\item 'new\\_rel\\_m3544'\n",
       "\\item 'new\\_rel\\_m4554'\n",
       "\\item 'new\\_rel\\_m5564'\n",
       "\\item 'new\\_rel\\_m65'\n",
       "\\item 'new\\_rel\\_f1524'\n",
       "\\item 'new\\_rel\\_f2534'\n",
       "\\item 'new\\_rel\\_f3544'\n",
       "\\item 'new\\_rel\\_f4554'\n",
       "\\item 'new\\_rel\\_f5564'\n",
       "\\item 'new\\_rel\\_f65'\n",
       "\\end{enumerate*}\n"
      ],
      "text/markdown": [
       "1. 'new_sp_m014'\n",
       "2. 'new_sp_m1524'\n",
       "3. 'new_sp_m2534'\n",
       "4. 'new_sp_m3544'\n",
       "5. 'new_sp_m4554'\n",
       "6. 'new_sp_m5564'\n",
       "7. 'new_sp_m65'\n",
       "8. 'new_sp_f014'\n",
       "9. 'new_sp_f1524'\n",
       "10. 'new_sp_f2534'\n",
       "11. 'new_sp_f3544'\n",
       "12. 'new_sp_f4554'\n",
       "13. 'new_sp_f5564'\n",
       "14. 'new_sp_f65'\n",
       "15. 'new_sn_m014'\n",
       "16. 'new_sn_m1524'\n",
       "17. 'new_sn_m2534'\n",
       "18. 'new_sn_m3544'\n",
       "19. 'new_sn_m4554'\n",
       "20. 'new_sn_m5564'\n",
       "21. 'new_sn_m65'\n",
       "22. 'new_ep_m014'\n",
       "23. 'new_ep_m1524'\n",
       "24. 'new_ep_m2534'\n",
       "25. 'new_ep_m3544'\n",
       "26. 'new_ep_m4554'\n",
       "27. 'new_ep_m5564'\n",
       "28. 'new_ep_m65'\n",
       "29. 'new_sn_f014'\n",
       "30. 'new_rel_m014'\n",
       "31. 'new_rel_f014'\n",
       "32. 'new_sn_f1524'\n",
       "33. 'new_sn_f2534'\n",
       "34. 'new_sn_f3544'\n",
       "35. 'new_sn_f4554'\n",
       "36. 'new_sn_f5564'\n",
       "37. 'new_sn_f65'\n",
       "38. 'new_ep_f014'\n",
       "39. 'new_ep_f1524'\n",
       "40. 'new_ep_f2534'\n",
       "41. 'new_ep_f3544'\n",
       "42. 'new_ep_f4554'\n",
       "43. 'new_ep_f5564'\n",
       "44. 'new_ep_f65'\n",
       "45. 'new_rel_m1524'\n",
       "46. 'new_rel_m2534'\n",
       "47. 'new_rel_m3544'\n",
       "48. 'new_rel_m4554'\n",
       "49. 'new_rel_m5564'\n",
       "50. 'new_rel_m65'\n",
       "51. 'new_rel_f1524'\n",
       "52. 'new_rel_f2534'\n",
       "53. 'new_rel_f3544'\n",
       "54. 'new_rel_f4554'\n",
       "55. 'new_rel_f5564'\n",
       "56. 'new_rel_f65'\n",
       "\n",
       "\n"
      ],
      "text/plain": [
       " [1] \"new_sp_m014\"   \"new_sp_m1524\"  \"new_sp_m2534\"  \"new_sp_m3544\" \n",
       " [5] \"new_sp_m4554\"  \"new_sp_m5564\"  \"new_sp_m65\"    \"new_sp_f014\"  \n",
       " [9] \"new_sp_f1524\"  \"new_sp_f2534\"  \"new_sp_f3544\"  \"new_sp_f4554\" \n",
       "[13] \"new_sp_f5564\"  \"new_sp_f65\"    \"new_sn_m014\"   \"new_sn_m1524\" \n",
       "[17] \"new_sn_m2534\"  \"new_sn_m3544\"  \"new_sn_m4554\"  \"new_sn_m5564\" \n",
       "[21] \"new_sn_m65\"    \"new_ep_m014\"   \"new_ep_m1524\"  \"new_ep_m2534\" \n",
       "[25] \"new_ep_m3544\"  \"new_ep_m4554\"  \"new_ep_m5564\"  \"new_ep_m65\"   \n",
       "[29] \"new_sn_f014\"   \"new_rel_m014\"  \"new_rel_f014\"  \"new_sn_f1524\" \n",
       "[33] \"new_sn_f2534\"  \"new_sn_f3544\"  \"new_sn_f4554\"  \"new_sn_f5564\" \n",
       "[37] \"new_sn_f65\"    \"new_ep_f014\"   \"new_ep_f1524\"  \"new_ep_f2534\" \n",
       "[41] \"new_ep_f3544\"  \"new_ep_f4554\"  \"new_ep_f5564\"  \"new_ep_f65\"   \n",
       "[45] \"new_rel_m1524\" \"new_rel_m2534\" \"new_rel_m3544\" \"new_rel_m4554\"\n",
       "[49] \"new_rel_m5564\" \"new_rel_m65\"   \"new_rel_f1524\" \"new_rel_f2534\"\n",
       "[53] \"new_rel_f3544\" \"new_rel_f4554\" \"new_rel_f5564\" \"new_rel_f65\"  "
      ]
     },
     "metadata": {},
     "output_type": "display_data"
    }
   ],
   "source": [
    "df_who2$variables <- gsub(pattern = \"newrel\", replacement = \"new_rel\", df_who2$variables)\n",
    "unique(df_who2$variables)"
   ]
  },
  {
   "cell_type": "markdown",
   "id": "1b453640-697d-4e5e-87c7-20b3033cdc5c",
   "metadata": {},
   "source": [
    "Now let us separate the `variables` column into three new columns, `type`, `sex`, and `age_group`."
   ]
  },
  {
   "cell_type": "code",
   "execution_count": 12,
   "id": "2ab6ec8f-7022-4d93-9255-ff32232c06e0",
   "metadata": {},
   "outputs": [
    {
     "data": {
      "text/html": [
       "<table class=\"dataframe\">\n",
       "<caption>A tibble: 5 × 8</caption>\n",
       "<thead>\n",
       "\t<tr><th scope=col>country</th><th scope=col>iso2</th><th scope=col>iso3</th><th scope=col>year</th><th scope=col>type</th><th scope=col>cases</th><th scope=col>sex</th><th scope=col>age_group</th></tr>\n",
       "\t<tr><th scope=col>&lt;chr&gt;</th><th scope=col>&lt;chr&gt;</th><th scope=col>&lt;chr&gt;</th><th scope=col>&lt;dbl&gt;</th><th scope=col>&lt;chr&gt;</th><th scope=col>&lt;dbl&gt;</th><th scope=col>&lt;chr&gt;</th><th scope=col>&lt;chr&gt;</th></tr>\n",
       "</thead>\n",
       "<tbody>\n",
       "\t<tr><td>Afghanistan</td><td>AF</td><td>AFG</td><td>1997</td><td>sp</td><td> 0</td><td>m</td><td>014 </td></tr>\n",
       "\t<tr><td>Afghanistan</td><td>AF</td><td>AFG</td><td>1997</td><td>sp</td><td>10</td><td>m</td><td>1524</td></tr>\n",
       "\t<tr><td>Afghanistan</td><td>AF</td><td>AFG</td><td>1997</td><td>sp</td><td> 6</td><td>m</td><td>2534</td></tr>\n",
       "\t<tr><td>Afghanistan</td><td>AF</td><td>AFG</td><td>1997</td><td>sp</td><td> 3</td><td>m</td><td>3544</td></tr>\n",
       "\t<tr><td>Afghanistan</td><td>AF</td><td>AFG</td><td>1997</td><td>sp</td><td> 5</td><td>m</td><td>4554</td></tr>\n",
       "</tbody>\n",
       "</table>\n"
      ],
      "text/latex": [
       "A tibble: 5 × 8\n",
       "\\begin{tabular}{llllllll}\n",
       " country & iso2 & iso3 & year & type & cases & sex & age\\_group\\\\\n",
       " <chr> & <chr> & <chr> & <dbl> & <chr> & <dbl> & <chr> & <chr>\\\\\n",
       "\\hline\n",
       "\t Afghanistan & AF & AFG & 1997 & sp &  0 & m & 014 \\\\\n",
       "\t Afghanistan & AF & AFG & 1997 & sp & 10 & m & 1524\\\\\n",
       "\t Afghanistan & AF & AFG & 1997 & sp &  6 & m & 2534\\\\\n",
       "\t Afghanistan & AF & AFG & 1997 & sp &  3 & m & 3544\\\\\n",
       "\t Afghanistan & AF & AFG & 1997 & sp &  5 & m & 4554\\\\\n",
       "\\end{tabular}\n"
      ],
      "text/markdown": [
       "\n",
       "A tibble: 5 × 8\n",
       "\n",
       "| country &lt;chr&gt; | iso2 &lt;chr&gt; | iso3 &lt;chr&gt; | year &lt;dbl&gt; | type &lt;chr&gt; | cases &lt;dbl&gt; | sex &lt;chr&gt; | age_group &lt;chr&gt; |\n",
       "|---|---|---|---|---|---|---|---|\n",
       "| Afghanistan | AF | AFG | 1997 | sp |  0 | m | 014  |\n",
       "| Afghanistan | AF | AFG | 1997 | sp | 10 | m | 1524 |\n",
       "| Afghanistan | AF | AFG | 1997 | sp |  6 | m | 2534 |\n",
       "| Afghanistan | AF | AFG | 1997 | sp |  3 | m | 3544 |\n",
       "| Afghanistan | AF | AFG | 1997 | sp |  5 | m | 4554 |\n",
       "\n"
      ],
      "text/plain": [
       "  country     iso2 iso3 year type cases sex age_group\n",
       "1 Afghanistan AF   AFG  1997 sp    0    m   014      \n",
       "2 Afghanistan AF   AFG  1997 sp   10    m   1524     \n",
       "3 Afghanistan AF   AFG  1997 sp    6    m   2534     \n",
       "4 Afghanistan AF   AFG  1997 sp    3    m   3544     \n",
       "5 Afghanistan AF   AFG  1997 sp    5    m   4554     "
      ]
     },
     "metadata": {},
     "output_type": "display_data"
    }
   ],
   "source": [
    "df_who_tidy <- df_who2 %>%\n",
    "    separate_wider_delim(variables, delim = \"_\", names = c(\"new\", \"type\", \"gender_age\")) %>%\n",
    "    mutate(\n",
    "        sex=str_sub(gender_age, 1, 1), \n",
    "        age_group = str_sub(gender_age, 2, str_length(gender_age))) %>%\n",
    "    subset(select = -c(gender_age, new))\n",
    "\n",
    "head(df_who_tidy, 5)"
   ]
  },
  {
   "cell_type": "markdown",
   "id": "314da1f6-68ea-4eb5-a0bf-12656890b975",
   "metadata": {},
   "source": [
    "### `Population` Dataset\n",
    "\n",
    "There exist some column names that can be a value of a column `year`"
   ]
  },
  {
   "cell_type": "code",
   "execution_count": 13,
   "id": "14d0e2b2-5c8f-49a7-9621-0999486821b1",
   "metadata": {},
   "outputs": [
    {
     "data": {
      "text/html": [
       "<table class=\"dataframe\">\n",
       "<caption>A tibble: 5 × 6</caption>\n",
       "<thead>\n",
       "\t<tr><th scope=col>Country.Name</th><th scope=col>Country.Code</th><th scope=col>Indicator.Name</th><th scope=col>Indicator.Code</th><th scope=col>year</th><th scope=col>population</th></tr>\n",
       "\t<tr><th scope=col>&lt;chr&gt;</th><th scope=col>&lt;chr&gt;</th><th scope=col>&lt;chr&gt;</th><th scope=col>&lt;chr&gt;</th><th scope=col>&lt;dbl&gt;</th><th scope=col>&lt;dbl&gt;</th></tr>\n",
       "</thead>\n",
       "<tbody>\n",
       "\t<tr><td>Aruba</td><td>ABW</td><td>Population, total</td><td>SP.POP.TOTL</td><td>1960</td><td>54922</td></tr>\n",
       "\t<tr><td>Aruba</td><td>ABW</td><td>Population, total</td><td>SP.POP.TOTL</td><td>1961</td><td>55578</td></tr>\n",
       "\t<tr><td>Aruba</td><td>ABW</td><td>Population, total</td><td>SP.POP.TOTL</td><td>1962</td><td>56320</td></tr>\n",
       "\t<tr><td>Aruba</td><td>ABW</td><td>Population, total</td><td>SP.POP.TOTL</td><td>1963</td><td>57002</td></tr>\n",
       "\t<tr><td>Aruba</td><td>ABW</td><td>Population, total</td><td>SP.POP.TOTL</td><td>1964</td><td>57619</td></tr>\n",
       "</tbody>\n",
       "</table>\n"
      ],
      "text/latex": [
       "A tibble: 5 × 6\n",
       "\\begin{tabular}{llllll}\n",
       " Country.Name & Country.Code & Indicator.Name & Indicator.Code & year & population\\\\\n",
       " <chr> & <chr> & <chr> & <chr> & <dbl> & <dbl>\\\\\n",
       "\\hline\n",
       "\t Aruba & ABW & Population, total & SP.POP.TOTL & 1960 & 54922\\\\\n",
       "\t Aruba & ABW & Population, total & SP.POP.TOTL & 1961 & 55578\\\\\n",
       "\t Aruba & ABW & Population, total & SP.POP.TOTL & 1962 & 56320\\\\\n",
       "\t Aruba & ABW & Population, total & SP.POP.TOTL & 1963 & 57002\\\\\n",
       "\t Aruba & ABW & Population, total & SP.POP.TOTL & 1964 & 57619\\\\\n",
       "\\end{tabular}\n"
      ],
      "text/markdown": [
       "\n",
       "A tibble: 5 × 6\n",
       "\n",
       "| Country.Name &lt;chr&gt; | Country.Code &lt;chr&gt; | Indicator.Name &lt;chr&gt; | Indicator.Code &lt;chr&gt; | year &lt;dbl&gt; | population &lt;dbl&gt; |\n",
       "|---|---|---|---|---|---|\n",
       "| Aruba | ABW | Population, total | SP.POP.TOTL | 1960 | 54922 |\n",
       "| Aruba | ABW | Population, total | SP.POP.TOTL | 1961 | 55578 |\n",
       "| Aruba | ABW | Population, total | SP.POP.TOTL | 1962 | 56320 |\n",
       "| Aruba | ABW | Population, total | SP.POP.TOTL | 1963 | 57002 |\n",
       "| Aruba | ABW | Population, total | SP.POP.TOTL | 1964 | 57619 |\n",
       "\n"
      ],
      "text/plain": [
       "  Country.Name Country.Code Indicator.Name    Indicator.Code year population\n",
       "1 Aruba        ABW          Population, total SP.POP.TOTL    1960 54922     \n",
       "2 Aruba        ABW          Population, total SP.POP.TOTL    1961 55578     \n",
       "3 Aruba        ABW          Population, total SP.POP.TOTL    1962 56320     \n",
       "4 Aruba        ABW          Population, total SP.POP.TOTL    1963 57002     \n",
       "5 Aruba        ABW          Population, total SP.POP.TOTL    1964 57619     "
      ]
     },
     "metadata": {},
     "output_type": "display_data"
    }
   ],
   "source": [
    "df_pop_tidy <- df_pop2 %>%\n",
    "pivot_longer(cols = c(5:ncol(df_pop2)), names_to = \"year\", values_to = \"population\") %>%\n",
    "mutate(across(c(year, population), as.numeric))\n",
    "head(df_pop_tidy, 5)"
   ]
  },
  {
   "cell_type": "markdown",
   "id": "1dcfb730-e679-4613-a9f4-853ddfcce8bd",
   "metadata": {},
   "source": [
    "## Join Datasets\n",
    "We can join the two tables via `WHO.iso3` and `Population.Country.Code`"
   ]
  },
  {
   "cell_type": "code",
   "execution_count": 14,
   "id": "bbdc684d-4e07-4a0b-b278-5de92422d754",
   "metadata": {},
   "outputs": [
    {
     "data": {
      "text/html": [
       "<table class=\"dataframe\">\n",
       "<caption>A tibble: 5 × 12</caption>\n",
       "<thead>\n",
       "\t<tr><th scope=col>country</th><th scope=col>iso2</th><th scope=col>iso3</th><th scope=col>year</th><th scope=col>type</th><th scope=col>cases</th><th scope=col>sex</th><th scope=col>age_group</th><th scope=col>Country.Name</th><th scope=col>Indicator.Name</th><th scope=col>Indicator.Code</th><th scope=col>population</th></tr>\n",
       "\t<tr><th scope=col>&lt;chr&gt;</th><th scope=col>&lt;chr&gt;</th><th scope=col>&lt;chr&gt;</th><th scope=col>&lt;dbl&gt;</th><th scope=col>&lt;chr&gt;</th><th scope=col>&lt;dbl&gt;</th><th scope=col>&lt;chr&gt;</th><th scope=col>&lt;chr&gt;</th><th scope=col>&lt;chr&gt;</th><th scope=col>&lt;chr&gt;</th><th scope=col>&lt;chr&gt;</th><th scope=col>&lt;dbl&gt;</th></tr>\n",
       "</thead>\n",
       "<tbody>\n",
       "\t<tr><td>Afghanistan</td><td>AF</td><td>AFG</td><td>1997</td><td>sp</td><td> 0</td><td>m</td><td>014 </td><td>Afghanistan</td><td>Population, total</td><td>SP.POP.TOTL</td><td>18452091</td></tr>\n",
       "\t<tr><td>Afghanistan</td><td>AF</td><td>AFG</td><td>1997</td><td>sp</td><td>10</td><td>m</td><td>1524</td><td>Afghanistan</td><td>Population, total</td><td>SP.POP.TOTL</td><td>18452091</td></tr>\n",
       "\t<tr><td>Afghanistan</td><td>AF</td><td>AFG</td><td>1997</td><td>sp</td><td> 6</td><td>m</td><td>2534</td><td>Afghanistan</td><td>Population, total</td><td>SP.POP.TOTL</td><td>18452091</td></tr>\n",
       "\t<tr><td>Afghanistan</td><td>AF</td><td>AFG</td><td>1997</td><td>sp</td><td> 3</td><td>m</td><td>3544</td><td>Afghanistan</td><td>Population, total</td><td>SP.POP.TOTL</td><td>18452091</td></tr>\n",
       "\t<tr><td>Afghanistan</td><td>AF</td><td>AFG</td><td>1997</td><td>sp</td><td> 5</td><td>m</td><td>4554</td><td>Afghanistan</td><td>Population, total</td><td>SP.POP.TOTL</td><td>18452091</td></tr>\n",
       "</tbody>\n",
       "</table>\n"
      ],
      "text/latex": [
       "A tibble: 5 × 12\n",
       "\\begin{tabular}{llllllllllll}\n",
       " country & iso2 & iso3 & year & type & cases & sex & age\\_group & Country.Name & Indicator.Name & Indicator.Code & population\\\\\n",
       " <chr> & <chr> & <chr> & <dbl> & <chr> & <dbl> & <chr> & <chr> & <chr> & <chr> & <chr> & <dbl>\\\\\n",
       "\\hline\n",
       "\t Afghanistan & AF & AFG & 1997 & sp &  0 & m & 014  & Afghanistan & Population, total & SP.POP.TOTL & 18452091\\\\\n",
       "\t Afghanistan & AF & AFG & 1997 & sp & 10 & m & 1524 & Afghanistan & Population, total & SP.POP.TOTL & 18452091\\\\\n",
       "\t Afghanistan & AF & AFG & 1997 & sp &  6 & m & 2534 & Afghanistan & Population, total & SP.POP.TOTL & 18452091\\\\\n",
       "\t Afghanistan & AF & AFG & 1997 & sp &  3 & m & 3544 & Afghanistan & Population, total & SP.POP.TOTL & 18452091\\\\\n",
       "\t Afghanistan & AF & AFG & 1997 & sp &  5 & m & 4554 & Afghanistan & Population, total & SP.POP.TOTL & 18452091\\\\\n",
       "\\end{tabular}\n"
      ],
      "text/markdown": [
       "\n",
       "A tibble: 5 × 12\n",
       "\n",
       "| country &lt;chr&gt; | iso2 &lt;chr&gt; | iso3 &lt;chr&gt; | year &lt;dbl&gt; | type &lt;chr&gt; | cases &lt;dbl&gt; | sex &lt;chr&gt; | age_group &lt;chr&gt; | Country.Name &lt;chr&gt; | Indicator.Name &lt;chr&gt; | Indicator.Code &lt;chr&gt; | population &lt;dbl&gt; |\n",
       "|---|---|---|---|---|---|---|---|---|---|---|---|\n",
       "| Afghanistan | AF | AFG | 1997 | sp |  0 | m | 014  | Afghanistan | Population, total | SP.POP.TOTL | 18452091 |\n",
       "| Afghanistan | AF | AFG | 1997 | sp | 10 | m | 1524 | Afghanistan | Population, total | SP.POP.TOTL | 18452091 |\n",
       "| Afghanistan | AF | AFG | 1997 | sp |  6 | m | 2534 | Afghanistan | Population, total | SP.POP.TOTL | 18452091 |\n",
       "| Afghanistan | AF | AFG | 1997 | sp |  3 | m | 3544 | Afghanistan | Population, total | SP.POP.TOTL | 18452091 |\n",
       "| Afghanistan | AF | AFG | 1997 | sp |  5 | m | 4554 | Afghanistan | Population, total | SP.POP.TOTL | 18452091 |\n",
       "\n"
      ],
      "text/plain": [
       "  country     iso2 iso3 year type cases sex age_group Country.Name\n",
       "1 Afghanistan AF   AFG  1997 sp    0    m   014       Afghanistan \n",
       "2 Afghanistan AF   AFG  1997 sp   10    m   1524      Afghanistan \n",
       "3 Afghanistan AF   AFG  1997 sp    6    m   2534      Afghanistan \n",
       "4 Afghanistan AF   AFG  1997 sp    3    m   3544      Afghanistan \n",
       "5 Afghanistan AF   AFG  1997 sp    5    m   4554      Afghanistan \n",
       "  Indicator.Name    Indicator.Code population\n",
       "1 Population, total SP.POP.TOTL    18452091  \n",
       "2 Population, total SP.POP.TOTL    18452091  \n",
       "3 Population, total SP.POP.TOTL    18452091  \n",
       "4 Population, total SP.POP.TOTL    18452091  \n",
       "5 Population, total SP.POP.TOTL    18452091  "
      ]
     },
     "metadata": {},
     "output_type": "display_data"
    }
   ],
   "source": [
    "names(df_pop_tidy)[names(df_pop_tidy) == \"Country.Code\"] <- \"iso3\"\n",
    "tuberculosis <- left_join(x = df_who_tidy, y = df_pop_tidy, by = c(\"iso3\", \"year\"))\n",
    "head(tuberculosis, 5)"
   ]
  },
  {
   "cell_type": "markdown",
   "id": "37b4a231-e64f-42ae-bc97-4dc395d9f7b7",
   "metadata": {},
   "source": [
    "## Clean Up Data"
   ]
  },
  {
   "cell_type": "code",
   "execution_count": 15,
   "id": "29d9376f-b670-4e60-9634-9079c7d4a559",
   "metadata": {},
   "outputs": [
    {
     "data": {
      "text/html": [
       "<table class=\"dataframe\">\n",
       "<caption>A tibble: 5 × 8</caption>\n",
       "<thead>\n",
       "\t<tr><th scope=col>country</th><th scope=col>iso3</th><th scope=col>year</th><th scope=col>type</th><th scope=col>cases</th><th scope=col>sex</th><th scope=col>age_group</th><th scope=col>population</th></tr>\n",
       "\t<tr><th scope=col>&lt;chr&gt;</th><th scope=col>&lt;chr&gt;</th><th scope=col>&lt;dbl&gt;</th><th scope=col>&lt;chr&gt;</th><th scope=col>&lt;dbl&gt;</th><th scope=col>&lt;chr&gt;</th><th scope=col>&lt;chr&gt;</th><th scope=col>&lt;dbl&gt;</th></tr>\n",
       "</thead>\n",
       "<tbody>\n",
       "\t<tr><td>Afghanistan</td><td>AFG</td><td>1997</td><td>sp</td><td> 0</td><td>m</td><td>014 </td><td>18452091</td></tr>\n",
       "\t<tr><td>Afghanistan</td><td>AFG</td><td>1997</td><td>sp</td><td>10</td><td>m</td><td>1524</td><td>18452091</td></tr>\n",
       "\t<tr><td>Afghanistan</td><td>AFG</td><td>1997</td><td>sp</td><td> 6</td><td>m</td><td>2534</td><td>18452091</td></tr>\n",
       "\t<tr><td>Afghanistan</td><td>AFG</td><td>1997</td><td>sp</td><td> 3</td><td>m</td><td>3544</td><td>18452091</td></tr>\n",
       "\t<tr><td>Afghanistan</td><td>AFG</td><td>1997</td><td>sp</td><td> 5</td><td>m</td><td>4554</td><td>18452091</td></tr>\n",
       "</tbody>\n",
       "</table>\n"
      ],
      "text/latex": [
       "A tibble: 5 × 8\n",
       "\\begin{tabular}{llllllll}\n",
       " country & iso3 & year & type & cases & sex & age\\_group & population\\\\\n",
       " <chr> & <chr> & <dbl> & <chr> & <dbl> & <chr> & <chr> & <dbl>\\\\\n",
       "\\hline\n",
       "\t Afghanistan & AFG & 1997 & sp &  0 & m & 014  & 18452091\\\\\n",
       "\t Afghanistan & AFG & 1997 & sp & 10 & m & 1524 & 18452091\\\\\n",
       "\t Afghanistan & AFG & 1997 & sp &  6 & m & 2534 & 18452091\\\\\n",
       "\t Afghanistan & AFG & 1997 & sp &  3 & m & 3544 & 18452091\\\\\n",
       "\t Afghanistan & AFG & 1997 & sp &  5 & m & 4554 & 18452091\\\\\n",
       "\\end{tabular}\n"
      ],
      "text/markdown": [
       "\n",
       "A tibble: 5 × 8\n",
       "\n",
       "| country &lt;chr&gt; | iso3 &lt;chr&gt; | year &lt;dbl&gt; | type &lt;chr&gt; | cases &lt;dbl&gt; | sex &lt;chr&gt; | age_group &lt;chr&gt; | population &lt;dbl&gt; |\n",
       "|---|---|---|---|---|---|---|---|\n",
       "| Afghanistan | AFG | 1997 | sp |  0 | m | 014  | 18452091 |\n",
       "| Afghanistan | AFG | 1997 | sp | 10 | m | 1524 | 18452091 |\n",
       "| Afghanistan | AFG | 1997 | sp |  6 | m | 2534 | 18452091 |\n",
       "| Afghanistan | AFG | 1997 | sp |  3 | m | 3544 | 18452091 |\n",
       "| Afghanistan | AFG | 1997 | sp |  5 | m | 4554 | 18452091 |\n",
       "\n"
      ],
      "text/plain": [
       "  country     iso3 year type cases sex age_group population\n",
       "1 Afghanistan AFG  1997 sp    0    m   014       18452091  \n",
       "2 Afghanistan AFG  1997 sp   10    m   1524      18452091  \n",
       "3 Afghanistan AFG  1997 sp    6    m   2534      18452091  \n",
       "4 Afghanistan AFG  1997 sp    3    m   3544      18452091  \n",
       "5 Afghanistan AFG  1997 sp    5    m   4554      18452091  "
      ]
     },
     "metadata": {},
     "output_type": "display_data"
    }
   ],
   "source": [
    "tuberculosis <- tuberculosis %>%\n",
    "    select(,-c(\"Country.Name\", \"Indicator.Name\", \"iso2\", \"Indicator.Code\")) %>%\n",
    "    drop_na()\n",
    "head(tuberculosis, 5)"
   ]
  },
  {
   "cell_type": "markdown",
   "id": "100b0003-d511-4e05-8925-10650b4f8a4c",
   "metadata": {},
   "source": [
    "## Data Manipulation\n",
    "\n",
    "#### Determine the total TB cases among men and women in the 21st century in the United States. Identify which sex had more cases."
   ]
  },
  {
   "cell_type": "code",
   "execution_count": 16,
   "id": "559502b1-2eda-48a0-b160-404f5ffdfcdb",
   "metadata": {},
   "outputs": [
    {
     "name": "stdout",
     "output_type": "stream",
     "text": [
      "[1] \"Cases of TB in United States by Gender During 21st century\"\n"
     ]
    },
    {
     "data": {
      "text/html": [
       "<table class=\"dataframe\">\n",
       "<caption>A tibble: 2 × 3</caption>\n",
       "<thead>\n",
       "\t<tr><th scope=col>sex</th><th scope=col>cases</th><th scope=col>proportion</th></tr>\n",
       "\t<tr><th scope=col>&lt;chr&gt;</th><th scope=col>&lt;dbl&gt;</th><th scope=col>&lt;dbl&gt;</th></tr>\n",
       "</thead>\n",
       "<tbody>\n",
       "\t<tr><td>f</td><td>43982</td><td>0.373517</td></tr>\n",
       "\t<tr><td>m</td><td>73769</td><td>0.626483</td></tr>\n",
       "</tbody>\n",
       "</table>\n"
      ],
      "text/latex": [
       "A tibble: 2 × 3\n",
       "\\begin{tabular}{lll}\n",
       " sex & cases & proportion\\\\\n",
       " <chr> & <dbl> & <dbl>\\\\\n",
       "\\hline\n",
       "\t f & 43982 & 0.373517\\\\\n",
       "\t m & 73769 & 0.626483\\\\\n",
       "\\end{tabular}\n"
      ],
      "text/markdown": [
       "\n",
       "A tibble: 2 × 3\n",
       "\n",
       "| sex &lt;chr&gt; | cases &lt;dbl&gt; | proportion &lt;dbl&gt; |\n",
       "|---|---|---|\n",
       "| f | 43982 | 0.373517 |\n",
       "| m | 73769 | 0.626483 |\n",
       "\n"
      ],
      "text/plain": [
       "  sex cases proportion\n",
       "1 f   43982 0.373517  \n",
       "2 m   73769 0.626483  "
      ]
     },
     "metadata": {},
     "output_type": "display_data"
    }
   ],
   "source": [
    "usa_21st_century_by_gender <- tuberculosis %>%\n",
    "filter(iso3==\"USA\", year> 2000) %>%\n",
    "group_by(sex) %>%\n",
    "summarise(cases = sum(cases))%>%\n",
    "mutate(proportion = cases/ sum(cases))\n",
    "print(\"Cases of TB in United States by Gender During 21st century\")\n",
    "usa_21st_century_by_gender"
   ]
  },
  {
   "cell_type": "markdown",
   "id": "f2769a3a-9517-4971-a3f3-cd7d5aa2e4df",
   "metadata": {},
   "source": [
    "As it turns out, from 2001-2013 in United States, **men are 25% more likely to acquire tubercolosis than female**. "
   ]
  },
  {
   "cell_type": "markdown",
   "id": "3e53debe-c745-414e-ab92-2c0bea6c76ac",
   "metadata": {},
   "source": [
    "#### Create a new variable, `cases_per_100k`, representing TB cases per 100,000 people by year, sex, age group, and TB type."
   ]
  },
  {
   "cell_type": "code",
   "execution_count": 17,
   "id": "e4f4f727-57f1-4aa1-9f4c-a5730d5e6269",
   "metadata": {},
   "outputs": [
    {
     "data": {
      "text/html": [
       "<table class=\"dataframe\">\n",
       "<caption>A tibble: 5 × 9</caption>\n",
       "<thead>\n",
       "\t<tr><th scope=col>country</th><th scope=col>iso3</th><th scope=col>year</th><th scope=col>type</th><th scope=col>cases</th><th scope=col>sex</th><th scope=col>age_group</th><th scope=col>population</th><th scope=col>cases_per_100k</th></tr>\n",
       "\t<tr><th scope=col>&lt;chr&gt;</th><th scope=col>&lt;chr&gt;</th><th scope=col>&lt;dbl&gt;</th><th scope=col>&lt;chr&gt;</th><th scope=col>&lt;dbl&gt;</th><th scope=col>&lt;chr&gt;</th><th scope=col>&lt;chr&gt;</th><th scope=col>&lt;dbl&gt;</th><th scope=col>&lt;dbl&gt;</th></tr>\n",
       "</thead>\n",
       "<tbody>\n",
       "\t<tr><td>Afghanistan</td><td>AFG</td><td>1997</td><td>sp</td><td> 0</td><td>m</td><td>014 </td><td>18452091</td><td>0.00000000</td></tr>\n",
       "\t<tr><td>Afghanistan</td><td>AFG</td><td>1997</td><td>sp</td><td>10</td><td>m</td><td>1524</td><td>18452091</td><td>0.05419440</td></tr>\n",
       "\t<tr><td>Afghanistan</td><td>AFG</td><td>1997</td><td>sp</td><td> 6</td><td>m</td><td>2534</td><td>18452091</td><td>0.03251664</td></tr>\n",
       "\t<tr><td>Afghanistan</td><td>AFG</td><td>1997</td><td>sp</td><td> 3</td><td>m</td><td>3544</td><td>18452091</td><td>0.01625832</td></tr>\n",
       "\t<tr><td>Afghanistan</td><td>AFG</td><td>1997</td><td>sp</td><td> 5</td><td>m</td><td>4554</td><td>18452091</td><td>0.02709720</td></tr>\n",
       "</tbody>\n",
       "</table>\n"
      ],
      "text/latex": [
       "A tibble: 5 × 9\n",
       "\\begin{tabular}{lllllllll}\n",
       " country & iso3 & year & type & cases & sex & age\\_group & population & cases\\_per\\_100k\\\\\n",
       " <chr> & <chr> & <dbl> & <chr> & <dbl> & <chr> & <chr> & <dbl> & <dbl>\\\\\n",
       "\\hline\n",
       "\t Afghanistan & AFG & 1997 & sp &  0 & m & 014  & 18452091 & 0.00000000\\\\\n",
       "\t Afghanistan & AFG & 1997 & sp & 10 & m & 1524 & 18452091 & 0.05419440\\\\\n",
       "\t Afghanistan & AFG & 1997 & sp &  6 & m & 2534 & 18452091 & 0.03251664\\\\\n",
       "\t Afghanistan & AFG & 1997 & sp &  3 & m & 3544 & 18452091 & 0.01625832\\\\\n",
       "\t Afghanistan & AFG & 1997 & sp &  5 & m & 4554 & 18452091 & 0.02709720\\\\\n",
       "\\end{tabular}\n"
      ],
      "text/markdown": [
       "\n",
       "A tibble: 5 × 9\n",
       "\n",
       "| country &lt;chr&gt; | iso3 &lt;chr&gt; | year &lt;dbl&gt; | type &lt;chr&gt; | cases &lt;dbl&gt; | sex &lt;chr&gt; | age_group &lt;chr&gt; | population &lt;dbl&gt; | cases_per_100k &lt;dbl&gt; |\n",
       "|---|---|---|---|---|---|---|---|---|\n",
       "| Afghanistan | AFG | 1997 | sp |  0 | m | 014  | 18452091 | 0.00000000 |\n",
       "| Afghanistan | AFG | 1997 | sp | 10 | m | 1524 | 18452091 | 0.05419440 |\n",
       "| Afghanistan | AFG | 1997 | sp |  6 | m | 2534 | 18452091 | 0.03251664 |\n",
       "| Afghanistan | AFG | 1997 | sp |  3 | m | 3544 | 18452091 | 0.01625832 |\n",
       "| Afghanistan | AFG | 1997 | sp |  5 | m | 4554 | 18452091 | 0.02709720 |\n",
       "\n"
      ],
      "text/plain": [
       "  country     iso3 year type cases sex age_group population cases_per_100k\n",
       "1 Afghanistan AFG  1997 sp    0    m   014       18452091   0.00000000    \n",
       "2 Afghanistan AFG  1997 sp   10    m   1524      18452091   0.05419440    \n",
       "3 Afghanistan AFG  1997 sp    6    m   2534      18452091   0.03251664    \n",
       "4 Afghanistan AFG  1997 sp    3    m   3544      18452091   0.01625832    \n",
       "5 Afghanistan AFG  1997 sp    5    m   4554      18452091   0.02709720    "
      ]
     },
     "metadata": {},
     "output_type": "display_data"
    }
   ],
   "source": [
    "per100 <- mutate(tuberculosis,cases_per_100k = cases*100000 / population)\n",
    "head(per100, 5)"
   ]
  },
  {
   "cell_type": "markdown",
   "id": "c158b746-acbd-4865-8c70-6d014eb735fb",
   "metadata": {},
   "source": [
    "#### The country and year with the highest cases per 100k.\n",
    "\n",
    "Since populations are the same for all combinations of (country, year), we can just get `first(populations)`to pick a the first entry to represent the population."
   ]
  },
  {
   "cell_type": "code",
   "execution_count": 18,
   "id": "8be43b3d-f9a5-428b-b59b-d6926c13c5ab",
   "metadata": {},
   "outputs": [
    {
     "name": "stderr",
     "output_type": "stream",
     "text": [
      "\u001b[1m\u001b[22m`summarise()` has grouped output by 'country'. You can override using the\n",
      "`.groups` argument.\n"
     ]
    },
    {
     "data": {
      "text/html": [
       "<table class=\"dataframe\">\n",
       "<caption>A grouped_df: 10 × 3</caption>\n",
       "<thead>\n",
       "\t<tr><th scope=col>country</th><th scope=col>year</th><th scope=col>cases_per_100k</th></tr>\n",
       "\t<tr><th scope=col>&lt;chr&gt;</th><th scope=col>&lt;dbl&gt;</th><th scope=col>&lt;dbl&gt;</th></tr>\n",
       "</thead>\n",
       "<tbody>\n",
       "\t<tr><td>Swaziland   </td><td>2010</td><td>873.1165</td></tr>\n",
       "\t<tr><td>South Africa</td><td>2009</td><td>741.9003</td></tr>\n",
       "\t<tr><td>Swaziland   </td><td>2006</td><td>729.6881</td></tr>\n",
       "\t<tr><td>Samoa       </td><td>2009</td><td>713.2675</td></tr>\n",
       "\t<tr><td>South Africa</td><td>2010</td><td>697.2941</td></tr>\n",
       "\t<tr><td>South Africa</td><td>2008</td><td>626.0951</td></tr>\n",
       "\t<tr><td>Swaziland   </td><td>2012</td><td>611.1065</td></tr>\n",
       "\t<tr><td>Swaziland   </td><td>2013</td><td>592.1291</td></tr>\n",
       "\t<tr><td>Lesotho     </td><td>2009</td><td>582.8209</td></tr>\n",
       "\t<tr><td>South Africa</td><td>2013</td><td>571.3001</td></tr>\n",
       "</tbody>\n",
       "</table>\n"
      ],
      "text/latex": [
       "A grouped\\_df: 10 × 3\n",
       "\\begin{tabular}{lll}\n",
       " country & year & cases\\_per\\_100k\\\\\n",
       " <chr> & <dbl> & <dbl>\\\\\n",
       "\\hline\n",
       "\t Swaziland    & 2010 & 873.1165\\\\\n",
       "\t South Africa & 2009 & 741.9003\\\\\n",
       "\t Swaziland    & 2006 & 729.6881\\\\\n",
       "\t Samoa        & 2009 & 713.2675\\\\\n",
       "\t South Africa & 2010 & 697.2941\\\\\n",
       "\t South Africa & 2008 & 626.0951\\\\\n",
       "\t Swaziland    & 2012 & 611.1065\\\\\n",
       "\t Swaziland    & 2013 & 592.1291\\\\\n",
       "\t Lesotho      & 2009 & 582.8209\\\\\n",
       "\t South Africa & 2013 & 571.3001\\\\\n",
       "\\end{tabular}\n"
      ],
      "text/markdown": [
       "\n",
       "A grouped_df: 10 × 3\n",
       "\n",
       "| country &lt;chr&gt; | year &lt;dbl&gt; | cases_per_100k &lt;dbl&gt; |\n",
       "|---|---|---|\n",
       "| Swaziland    | 2010 | 873.1165 |\n",
       "| South Africa | 2009 | 741.9003 |\n",
       "| Swaziland    | 2006 | 729.6881 |\n",
       "| Samoa        | 2009 | 713.2675 |\n",
       "| South Africa | 2010 | 697.2941 |\n",
       "| South Africa | 2008 | 626.0951 |\n",
       "| Swaziland    | 2012 | 611.1065 |\n",
       "| Swaziland    | 2013 | 592.1291 |\n",
       "| Lesotho      | 2009 | 582.8209 |\n",
       "| South Africa | 2013 | 571.3001 |\n",
       "\n"
      ],
      "text/plain": [
       "   country      year cases_per_100k\n",
       "1  Swaziland    2010 873.1165      \n",
       "2  South Africa 2009 741.9003      \n",
       "3  Swaziland    2006 729.6881      \n",
       "4  Samoa        2009 713.2675      \n",
       "5  South Africa 2010 697.2941      \n",
       "6  South Africa 2008 626.0951      \n",
       "7  Swaziland    2012 611.1065      \n",
       "8  Swaziland    2013 592.1291      \n",
       "9  Lesotho      2009 582.8209      \n",
       "10 South Africa 2013 571.3001      "
      ]
     },
     "metadata": {},
     "output_type": "display_data"
    }
   ],
   "source": [
    "per100_by_country_year <- tuberculosis %>%\n",
    "group_by(country, year) %>%\n",
    "summarise(cases_per_100k = (sum(cases)*100000) / first(population)) %>% \n",
    "arrange(-cases_per_100k)\n",
    "\n",
    "head(per100_by_country_year, 10)"
   ]
  },
  {
   "cell_type": "markdown",
   "id": "bde70212-abc7-4d58-b7be-32c757353ae6",
   "metadata": {},
   "source": [
    "#### The country and year with the lowest cases per 100k."
   ]
  },
  {
   "cell_type": "code",
   "execution_count": 19,
   "id": "f5a88802-87ca-47ae-b61a-c9628f770fdb",
   "metadata": {},
   "outputs": [
    {
     "data": {
      "text/html": [
       "<table class=\"dataframe\">\n",
       "<caption>A grouped_df: 10 × 3</caption>\n",
       "<thead>\n",
       "\t<tr><th scope=col>country</th><th scope=col>year</th><th scope=col>cases_per_100k</th></tr>\n",
       "\t<tr><th scope=col>&lt;chr&gt;</th><th scope=col>&lt;dbl&gt;</th><th scope=col>&lt;dbl&gt;</th></tr>\n",
       "</thead>\n",
       "<tbody>\n",
       "\t<tr><td>Luxembourg                      </td><td>2008</td><td>0</td></tr>\n",
       "\t<tr><td>Luxembourg                      </td><td>2009</td><td>0</td></tr>\n",
       "\t<tr><td>Luxembourg                      </td><td>2011</td><td>0</td></tr>\n",
       "\t<tr><td>Luxembourg                      </td><td>2012</td><td>0</td></tr>\n",
       "\t<tr><td>Nicaragua                       </td><td>2012</td><td>0</td></tr>\n",
       "\t<tr><td>Saint Kitts and Nevis           </td><td>2013</td><td>0</td></tr>\n",
       "\t<tr><td>Saint Vincent and the Grenadines</td><td>2008</td><td>0</td></tr>\n",
       "\t<tr><td>San Marino                      </td><td>2003</td><td>0</td></tr>\n",
       "\t<tr><td>San Marino                      </td><td>2004</td><td>0</td></tr>\n",
       "\t<tr><td>Spain                           </td><td>2009</td><td>0</td></tr>\n",
       "</tbody>\n",
       "</table>\n"
      ],
      "text/latex": [
       "A grouped\\_df: 10 × 3\n",
       "\\begin{tabular}{lll}\n",
       " country & year & cases\\_per\\_100k\\\\\n",
       " <chr> & <dbl> & <dbl>\\\\\n",
       "\\hline\n",
       "\t Luxembourg                       & 2008 & 0\\\\\n",
       "\t Luxembourg                       & 2009 & 0\\\\\n",
       "\t Luxembourg                       & 2011 & 0\\\\\n",
       "\t Luxembourg                       & 2012 & 0\\\\\n",
       "\t Nicaragua                        & 2012 & 0\\\\\n",
       "\t Saint Kitts and Nevis            & 2013 & 0\\\\\n",
       "\t Saint Vincent and the Grenadines & 2008 & 0\\\\\n",
       "\t San Marino                       & 2003 & 0\\\\\n",
       "\t San Marino                       & 2004 & 0\\\\\n",
       "\t Spain                            & 2009 & 0\\\\\n",
       "\\end{tabular}\n"
      ],
      "text/markdown": [
       "\n",
       "A grouped_df: 10 × 3\n",
       "\n",
       "| country &lt;chr&gt; | year &lt;dbl&gt; | cases_per_100k &lt;dbl&gt; |\n",
       "|---|---|---|\n",
       "| Luxembourg                       | 2008 | 0 |\n",
       "| Luxembourg                       | 2009 | 0 |\n",
       "| Luxembourg                       | 2011 | 0 |\n",
       "| Luxembourg                       | 2012 | 0 |\n",
       "| Nicaragua                        | 2012 | 0 |\n",
       "| Saint Kitts and Nevis            | 2013 | 0 |\n",
       "| Saint Vincent and the Grenadines | 2008 | 0 |\n",
       "| San Marino                       | 2003 | 0 |\n",
       "| San Marino                       | 2004 | 0 |\n",
       "| Spain                            | 2009 | 0 |\n",
       "\n"
      ],
      "text/plain": [
       "   country                          year cases_per_100k\n",
       "1  Luxembourg                       2008 0             \n",
       "2  Luxembourg                       2009 0             \n",
       "3  Luxembourg                       2011 0             \n",
       "4  Luxembourg                       2012 0             \n",
       "5  Nicaragua                        2012 0             \n",
       "6  Saint Kitts and Nevis            2013 0             \n",
       "7  Saint Vincent and the Grenadines 2008 0             \n",
       "8  San Marino                       2003 0             \n",
       "9  San Marino                       2004 0             \n",
       "10 Spain                            2009 0             "
      ]
     },
     "metadata": {},
     "output_type": "display_data"
    }
   ],
   "source": [
    "tail(per100_by_country_year, 10)"
   ]
  },
  {
   "cell_type": "markdown",
   "id": "a55a4f84-314f-45d6-948a-d06640c5f001",
   "metadata": {},
   "source": [
    "## Data Visualization\n",
    "\n",
    "###  Plot the total cases per 100k as a function of year for China, India, and the United States:\n",
    "\n",
    "#### Use a log scale on the y-axis (`scale_y_log10()`).\n"
   ]
  },
  {
   "cell_type": "code",
   "execution_count": 20,
   "id": "2bb60239-089f-4c15-b8a0-46181bcd1287",
   "metadata": {},
   "outputs": [
    {
     "name": "stderr",
     "output_type": "stream",
     "text": [
      "\u001b[1m\u001b[22m`summarise()` has grouped output by 'country'. You can override using the\n",
      "`.groups` argument.\n"
     ]
    },
    {
     "data": {
      "image/png": "[encoded data removed]",
      "text/plain": [
       "plot without title"
      ]
     },
     "metadata": {
      "image/png": {
       "height": 480,
       "width": 900
      }
     },
     "output_type": "display_data"
    }
   ],
   "source": [
    "options(repr.plot.width = 15, repr.plot.height = 8)\n",
    "\n",
    "tuberculosis  %>%\n",
    "filter(iso3 %in% c(\"CHN\", \"IND\", \"USA\")) %>%\n",
    "group_by(country, year) %>%\n",
    "summarise(cases_per_100k = sum(cases)*100000 / first(population)) %>%\n",
    "ggplot(aes(x=year, y=cases_per_100k, fill=country)) + \n",
    "geom_col(position = \"dodge\") +\n",
    "    ggtitle(\"TB Cases Per 100K Over Time\") +\n",
    "    labs(x = \"Year\",\n",
    "        y = \"Cases Per 100K\",\n",
    "        fill = \"Country\") +\n",
    "    theme_solarized() +\n",
    "    theme(plot.title = element_text(hjust = 0.5, size = 24),\n",
    "        axis.title = element_text(size = 16),\n",
    "        axis.text = element_text(size = 16),\n",
    "        legend.key.size = unit(1, 'cm'),\n",
    "        legend.key.height = unit(1, 'cm'), \n",
    "        legend.key.width = unit(1, 'cm'),\n",
    "        legend.title = element_text(size=19),\n",
    "        legend.text = element_text(size=15))"
   ]
  },
  {
   "cell_type": "code",
   "execution_count": 21,
   "id": "a54b3e1a-0673-49fc-997b-dd77f80f8d6d",
   "metadata": {},
   "outputs": [
    {
     "name": "stderr",
     "output_type": "stream",
     "text": [
      "\u001b[1m\u001b[22m`summarise()` has grouped output by 'country'. You can override using the\n",
      "`.groups` argument.\n"
     ]
    },
    {
     "data": {
      "image/png": "[encoded data removed]",
      "text/plain": [
       "plot without title"
      ]
     },
     "metadata": {
      "image/png": {
       "height": 480,
       "width": 900
      }
     },
     "output_type": "display_data"
    }
   ],
   "source": [
    "tuberculosis  %>%\n",
    "    filter(iso3 %in% c(\"CHN\", \"IND\", \"USA\")) %>%\n",
    "    group_by(country, year) %>%\n",
    "    summarise(cases_per_100k = sum(cases)*100000 / first(population)) %>%\n",
    "    ggplot(aes(x = year, y = cases_per_100k, fill = country)) +\n",
    "    scale_y_log10() +\n",
    "    geom_col(position = \"dodge\") +\n",
    "    ggtitle(\"TB Cases Per 100K Over Time (scale_y_log10)\") +\n",
    "    labs(x = \"Year\",\n",
    "        y = \"log(Cases Per 100K)\",\n",
    "        fill = \"Country\") +\n",
    "    theme_solarized() +\n",
    "    theme(plot.title = element_text(hjust = 0.5, size = 24),\n",
    "        axis.title = element_text(size = 16),\n",
    "        axis.text = element_text(size = 16),\n",
    "        legend.key.size = unit(1, 'cm'),\n",
    "        legend.key.height = unit(1, 'cm'), \n",
    "        legend.key.width = unit(1, 'cm'),\n",
    "        legend.title = element_text(size=19),\n",
    "        legend.text = element_text(size=15))"
   ]
  },
  {
   "cell_type": "markdown",
   "id": "1082af8b-5fb9-4e3b-918a-bfd210689f69",
   "metadata": {},
   "source": [
    "#### Describe emerging patterns.\n",
    "The figure `TB Cases Per 100K Over Time (scale_y_log10)` describes a trend in number of `Cases Per 100k` of tubercolosis from 1995 to 2013 between three countries, *China*, *India*, and *United States of America*. \n",
    "\n",
    "From the bar graph, it becomes clear that *USA* recorded a relative lower and unchanging cases `Cases Per 100k`of tubercolosis through the years. \n",
    "\n",
    "*China* on the other hand, have stable amount of cases, although highest cases among the three, during the first half but rapidly increased during the second half. This makes *China* have the highest average `Cases Per 100k`. \n",
    "\n",
    "*India* started the lowest (almost nothing) but quickly accumulated records exponentially, likely due to an outbreak, and they never really recovered after.\n",
    "\n",
    "Considering the population in all three countries, *China* and *India* have got themselves full.\n",
    "\n",
    "### Compare distributions of total cases per 100k (summed over years, sexes, and TB types) across age groups:\n",
    "\n",
    "#### Use a log scale on the y-axis."
   ]
  },
  {
   "cell_type": "code",
   "execution_count": 22,
   "id": "929569f0-ae5d-4e23-8798-a2cecf230910",
   "metadata": {},
   "outputs": [
    {
     "data": {
      "image/png": "[encoded data removed]",
      "text/plain": [
       "plot without title"
      ]
     },
     "metadata": {
      "image/png": {
       "height": 480,
       "width": 900
      }
     },
     "output_type": "display_data"
    }
   ],
   "source": [
    "\n",
    "per100 %>%\n",
    "group_by(age_group) %>%\n",
    "summarise(cases_per_100k_ = sum(cases_per_100k)) %>%\n",
    "ggplot() +\n",
    "  geom_col(aes(x = age_group, y = cases_per_100k_)) +\n",
    "  ggtitle(\"TB Cases per 100k by Age Group\") +\n",
    "  labs(x = \"Age Group\", y = \"Cases_per_100k\") +\n",
    "  theme_solarized() +\n",
    "  theme(plot.title = element_text(hjust = 0.5, size = 24),\n",
    "        axis.title = element_text(size = 16),\n",
    "        axis.text = element_text(size = 16))"
   ]
  },
  {
   "cell_type": "code",
   "execution_count": 23,
   "id": "9aab47db-a77e-4cff-a18f-71332080ccd7",
   "metadata": {},
   "outputs": [
    {
     "data": {
      "image/png": "[encoded data removed]",
      "text/plain": [
       "plot without title"
      ]
     },
     "metadata": {
      "image/png": {
       "height": 480,
       "width": 900
      }
     },
     "output_type": "display_data"
    }
   ],
   "source": [
    "per100 %>%\n",
    "group_by(age_group) %>%\n",
    "summarise(cases_per_100k_ = sum(cases_per_100k)) %>%\n",
    "ggplot() +\n",
    "  geom_col(aes(x = age_group, y = cases_per_100k_)) +\n",
    "  scale_y_log10() + \n",
    "  ggtitle(\"TB Cases per 100k by Age Group (Log)\") +\n",
    "  labs(x = \"Age Group\", y = \"Log(Cases_per_100k)\") +\n",
    "  theme_solarized() +\n",
    "  theme(plot.title = element_text(hjust = 0.5, size = 24),\n",
    "        axis.title = element_text(size = 16),\n",
    "        axis.text = element_text(size = 16))"
   ]
  },
  {
   "cell_type": "markdown",
   "id": "8329650d-4145-44b1-bc94-3d253f70043b",
   "metadata": {},
   "source": [
    "**Volume**: one of the most glaring pattern from the figure is the volume of`Cases per 100k` for each `Age Group`. Given that this was aggregated through about 16 years, this is to be expected. Although still alarmingly high.\n",
    "\n",
    "**Least likely group**: It appears that as was expected, the youngest age group are the least likely to contract `tubercolosis`, compared to the other age group at least. \n",
    "\n",
    "**Counter Intuitive**: What's peculiar about the result is that middle aged people (15-24, 25-34, and 35-44) are more likely to contract `tubercolosis` than the older ag`Age Groups`. This is surprising considering that the common knowledge that the older people get, the weaker their immune system becomes. It goes to show that age isn't a sole factor contributing to contracting diseases like `tubercolosis`. Maybe lifestyle choice, or culture, or middle aged are just more likely to go to hospital and have themselves check, just some factors to look upon when considering a public health policy  centered around prevention of this disease. \n",
    "\n",
    "### Create a plot to evaluate whether the number of cases per 100k in 2000 was related to a country’s population:\n"
   ]
  },
  {
   "cell_type": "code",
   "execution_count": 24,
   "id": "c2e3af3e-a022-4358-8517-6c13cbf88402",
   "metadata": {},
   "outputs": [
    {
     "data": {
      "image/png": "[encoded data removed]",
      "text/plain": [
       "plot without title"
      ]
     },
     "metadata": {
      "image/png": {
       "height": 480,
       "width": 900
      }
     },
     "output_type": "display_data"
    }
   ],
   "source": [
    "per100 %>%\n",
    "filter(year == 2000) %>%\n",
    "group_by(country) %>%\n",
    "reframe(cases_per_100k_ = sum(cases_per_100k), population = min(population)) %>%\n",
    "ggplot(aes(x=population, y=cases_per_100k_)) +\n",
    "geom_point() +\n",
    "theme_solarized()\n"
   ]
  },
  {
   "cell_type": "markdown",
   "id": "bf1dd2c0-ef3d-4b79-a1eb-d530177d7dbf",
   "metadata": {},
   "source": [
    "It's hard to investigate for some trends when some significant outliers are present. Let us create another scatter plot but this time, remove the top and bottom 5% of both `population` and `cases_per_100K`"
   ]
  },
  {
   "cell_type": "code",
   "execution_count": 25,
   "id": "5993bf90-2b04-4eab-b3b4-83e6b3f0debe",
   "metadata": {},
   "outputs": [
    {
     "data": {
      "image/png": "[encoded data removed]",
      "text/plain": [
       "plot without title"
      ]
     },
     "metadata": {
      "image/png": {
       "height": 480,
       "width": 900
      }
     },
     "output_type": "display_data"
    }
   ],
   "source": [
    "population_x_cases <- per100 %>%\n",
    "filter(year == 2000) %>%\n",
    "group_by(country) %>%\n",
    "reframe(cases_per_100k_ = sum(cases_per_100k), population = min(population))\n",
    "\n",
    "upper <- 0.95\n",
    "lower <- 0.05\n",
    "\n",
    "population_quants <- quantile(population_x_cases$population, probs = c(lower, upper))\n",
    "cases_quants <- quantile(population_x_cases$cases_per_100k_, probs = c(lower, upper))\n",
    "\n",
    "population_x_cases %>%\n",
    "filter(between(x = population, left = population_quants[1], right = population_quants[2]), \n",
    "       between(x = cases_per_100k_, left = cases_quants[1], right = cases_quants[2])) %>%\n",
    "ggplot(aes(x=population, y=cases_per_100k_)) +\n",
    "geom_point() +\n",
    "ggtitle(\"Population vs Cases Per 100k for Each Country\") +\n",
    "theme_solarized() +\n",
    "theme(plot.title = element_text(hjust = 0.5, size = 24),\n",
    "        axis.title = element_text(size = 16),\n",
    "        axis.text = element_text(size = 16))"
   ]
  },
  {
   "cell_type": "markdown",
   "id": "f8d42436-6bf1-4d22-9796-5fec62b53cd0",
   "metadata": {},
   "source": [
    "Based on the graph `Population vs Cases Per 100k for Each Country`, we can assert that there exist *NO correlation* between `population` and `cases_per_100K`. Meaning, there's no apparent significant relationship between the two variables. Of course we could check this by calculating for correlation.  "
   ]
  },
  {
   "cell_type": "code",
   "execution_count": 34,
   "id": "2dbe87a7-a9e7-4b84-9be4-0e82da9f88d0",
   "metadata": {},
   "outputs": [
    {
     "data": {
      "text/html": [
       "-0.0523834590858362"
      ],
      "text/latex": [
       "-0.0523834590858362"
      ],
      "text/markdown": [
       "-0.0523834590858362"
      ],
      "text/plain": [
       "[1] -0.05238346"
      ]
     },
     "metadata": {},
     "output_type": "display_data"
    }
   ],
   "source": [
    "cor(population_x_cases$population, population_x_cases$cases_per_100k_, use=\"everything\")"
   ]
  }
 ],
 "metadata": {
  "kernelspec": {
   "display_name": "R [conda env:base] *",
   "language": "R",
   "name": "conda-base-r"
  },
  "language_info": {
   "codemirror_mode": "r",
   "file_extension": ".r",
   "mimetype": "text/x-r-source",
   "name": "R",
   "pygments_lexer": "r",
   "version": "4.1.3"
  }
 },
 "nbformat": 4,
 "nbformat_minor": 5
}
