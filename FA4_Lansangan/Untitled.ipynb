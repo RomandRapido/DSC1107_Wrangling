{
 "cells": [
  {
   "cell_type": "code",
   "execution_count": 1,
   "id": "f47e8568-84e5-4d26-9587-b5ffe991f0ad",
   "metadata": {
    "vscode": {
     "languageId": "r"
    }
   },
   "outputs": [
    {
     "name": "stderr",
     "output_type": "stream",
     "text": [
      "-- \u001b[1mAttaching core tidyverse packages\u001b[22m ------------------------ tidyverse 2.0.0 --\n",
      "\u001b[32mv\u001b[39m \u001b[34mdplyr    \u001b[39m 1.1.4     \u001b[32mv\u001b[39m \u001b[34mreadr    \u001b[39m 2.1.5\n",
      "\u001b[32mv\u001b[39m \u001b[34mforcats  \u001b[39m 1.0.0     \u001b[32mv\u001b[39m \u001b[34mstringr  \u001b[39m 1.5.0\n",
      "\u001b[32mv\u001b[39m \u001b[34mggplot2  \u001b[39m 3.4.2     \u001b[32mv\u001b[39m \u001b[34mtibble   \u001b[39m 3.2.1\n",
      "\u001b[32mv\u001b[39m \u001b[34mlubridate\u001b[39m 1.9.3     \u001b[32mv\u001b[39m \u001b[34mtidyr    \u001b[39m 1.3.1\n",
      "\u001b[32mv\u001b[39m \u001b[34mpurrr    \u001b[39m 1.0.2     \n",
      "-- \u001b[1mConflicts\u001b[22m ------------------------------------------ tidyverse_conflicts() --\n",
      "\u001b[31mx\u001b[39m \u001b[34mdplyr\u001b[39m::\u001b[32mfilter()\u001b[39m masks \u001b[34mstats\u001b[39m::filter()\n",
      "\u001b[31mx\u001b[39m \u001b[34mdplyr\u001b[39m::\u001b[32mlag()\u001b[39m    masks \u001b[34mstats\u001b[39m::lag()\n",
      "\u001b[36mi\u001b[39m Use the conflicted package (\u001b[3m\u001b[34m<http://conflicted.r-lib.org/>\u001b[39m\u001b[23m) to force all conflicts to become errors\n"
     ]
    }
   ],
   "source": [
    "library(tidyverse)"
   ]
  },
  {
   "cell_type": "code",
   "execution_count": 13,
   "id": "492927b7-b7d1-4fec-bc97-f6fa97e084d7",
   "metadata": {
    "vscode": {
     "languageId": "r"
    }
   },
   "outputs": [],
   "source": [
    "training_results_summary <- readRDS(\"training_results_summary_2.rds\")"
   ]
  },
  {
   "cell_type": "code",
   "execution_count": 14,
   "id": "dc40c28f",
   "metadata": {
    "vscode": {
     "languageId": "r"
    }
   },
   "outputs": [
    {
     "data": {
      "text/html": [
       "<table class=\"dataframe\">\n",
       "<caption>A tibble: 10 × 4</caption>\n",
       "<thead>\n",
       "\t<tr><th scope=col>K</th><th scope=col>mean_sq_bias</th><th scope=col>mean_variance</th><th scope=col>expected_test_error</th></tr>\n",
       "\t<tr><th scope=col>&lt;dbl&gt;</th><th scope=col>&lt;dbl&gt;</th><th scope=col>&lt;dbl&gt;</th><th scope=col>&lt;dbl&gt;</th></tr>\n",
       "</thead>\n",
       "<tbody>\n",
       "\t<tr><td> 1</td><td>0.2798159</td><td>17.48784</td><td>17.76766</td></tr>\n",
       "\t<tr><td> 2</td><td>0.2560272</td><td>17.35161</td><td>17.60764</td></tr>\n",
       "\t<tr><td> 3</td><td>0.2266359</td><td>17.69080</td><td>17.91743</td></tr>\n",
       "\t<tr><td> 4</td><td>0.2644478</td><td>17.72424</td><td>17.98868</td></tr>\n",
       "\t<tr><td> 5</td><td>0.2550169</td><td>17.76873</td><td>18.02375</td></tr>\n",
       "\t<tr><td> 6</td><td>0.2520163</td><td>17.32626</td><td>17.57828</td></tr>\n",
       "\t<tr><td> 7</td><td>0.2440766</td><td>17.71019</td><td>17.95427</td></tr>\n",
       "\t<tr><td> 8</td><td>0.2319014</td><td>17.56337</td><td>17.79527</td></tr>\n",
       "\t<tr><td> 9</td><td>0.2322866</td><td>17.64130</td><td>17.87359</td></tr>\n",
       "\t<tr><td>10</td><td>0.2401272</td><td>17.61447</td><td>17.85460</td></tr>\n",
       "</tbody>\n",
       "</table>\n"
      ],
      "text/latex": [
       "A tibble: 10 × 4\n",
       "\\begin{tabular}{llll}\n",
       " K & mean\\_sq\\_bias & mean\\_variance & expected\\_test\\_error\\\\\n",
       " <dbl> & <dbl> & <dbl> & <dbl>\\\\\n",
       "\\hline\n",
       "\t  1 & 0.2798159 & 17.48784 & 17.76766\\\\\n",
       "\t  2 & 0.2560272 & 17.35161 & 17.60764\\\\\n",
       "\t  3 & 0.2266359 & 17.69080 & 17.91743\\\\\n",
       "\t  4 & 0.2644478 & 17.72424 & 17.98868\\\\\n",
       "\t  5 & 0.2550169 & 17.76873 & 18.02375\\\\\n",
       "\t  6 & 0.2520163 & 17.32626 & 17.57828\\\\\n",
       "\t  7 & 0.2440766 & 17.71019 & 17.95427\\\\\n",
       "\t  8 & 0.2319014 & 17.56337 & 17.79527\\\\\n",
       "\t  9 & 0.2322866 & 17.64130 & 17.87359\\\\\n",
       "\t 10 & 0.2401272 & 17.61447 & 17.85460\\\\\n",
       "\\end{tabular}\n"
      ],
      "text/markdown": [
       "\n",
       "A tibble: 10 × 4\n",
       "\n",
       "| K &lt;dbl&gt; | mean_sq_bias &lt;dbl&gt; | mean_variance &lt;dbl&gt; | expected_test_error &lt;dbl&gt; |\n",
       "|---|---|---|---|\n",
       "|  1 | 0.2798159 | 17.48784 | 17.76766 |\n",
       "|  2 | 0.2560272 | 17.35161 | 17.60764 |\n",
       "|  3 | 0.2266359 | 17.69080 | 17.91743 |\n",
       "|  4 | 0.2644478 | 17.72424 | 17.98868 |\n",
       "|  5 | 0.2550169 | 17.76873 | 18.02375 |\n",
       "|  6 | 0.2520163 | 17.32626 | 17.57828 |\n",
       "|  7 | 0.2440766 | 17.71019 | 17.95427 |\n",
       "|  8 | 0.2319014 | 17.56337 | 17.79527 |\n",
       "|  9 | 0.2322866 | 17.64130 | 17.87359 |\n",
       "| 10 | 0.2401272 | 17.61447 | 17.85460 |\n",
       "\n"
      ],
      "text/plain": [
       "   K  mean_sq_bias mean_variance expected_test_error\n",
       "1   1 0.2798159    17.48784      17.76766           \n",
       "2   2 0.2560272    17.35161      17.60764           \n",
       "3   3 0.2266359    17.69080      17.91743           \n",
       "4   4 0.2644478    17.72424      17.98868           \n",
       "5   5 0.2550169    17.76873      18.02375           \n",
       "6   6 0.2520163    17.32626      17.57828           \n",
       "7   7 0.2440766    17.71019      17.95427           \n",
       "8   8 0.2319014    17.56337      17.79527           \n",
       "9   9 0.2322866    17.64130      17.87359           \n",
       "10 10 0.2401272    17.61447      17.85460           "
      ]
     },
     "metadata": {},
     "output_type": "display_data"
    }
   ],
   "source": [
    "overall_results <- training_results_summary %>%\n",
    "  group_by(K) %>%\n",
    "  summarize(\n",
    "    mean_sq_bias       = mean(bias^2),\n",
    "    mean_variance      = mean(variance),\n",
    "    expected_test_error = mean_sq_bias + mean_variance\n",
    "  ) %>%\n",
    "  ungroup()\n",
    "  overall_results"
   ]
  },
  {
   "cell_type": "code",
   "execution_count": 10,
   "id": "6e50799c",
   "metadata": {
    "vscode": {
     "languageId": "r"
    }
   },
   "outputs": [
    {
     "data": {
      "text/html": [
       "<table class=\"dataframe\">\n",
       "<caption>A tibble: 10 × 4</caption>\n",
       "<thead>\n",
       "\t<tr><th scope=col>K</th><th scope=col>bias_squared</th><th scope=col>variance_mean</th><th scope=col>expected_test_error</th></tr>\n",
       "\t<tr><th scope=col>&lt;dbl&gt;</th><th scope=col>&lt;dbl&gt;</th><th scope=col>&lt;dbl&gt;</th><th scope=col>&lt;dbl&gt;</th></tr>\n",
       "</thead>\n",
       "<tbody>\n",
       "\t<tr><td> 1</td><td>0.2798159</td><td>17.48784</td><td>33.76766</td></tr>\n",
       "\t<tr><td> 2</td><td>0.2560272</td><td>17.35161</td><td>33.60764</td></tr>\n",
       "\t<tr><td> 3</td><td>0.2266359</td><td>17.69080</td><td>33.91743</td></tr>\n",
       "\t<tr><td> 4</td><td>0.2644478</td><td>17.72424</td><td>33.98868</td></tr>\n",
       "\t<tr><td> 5</td><td>0.2550169</td><td>17.76873</td><td>34.02375</td></tr>\n",
       "\t<tr><td> 6</td><td>0.2520163</td><td>17.32626</td><td>33.57828</td></tr>\n",
       "\t<tr><td> 7</td><td>0.2440766</td><td>17.71019</td><td>33.95427</td></tr>\n",
       "\t<tr><td> 8</td><td>0.2319014</td><td>17.56337</td><td>33.79527</td></tr>\n",
       "\t<tr><td> 9</td><td>0.2322866</td><td>17.64130</td><td>33.87359</td></tr>\n",
       "\t<tr><td>10</td><td>0.2401272</td><td>17.61447</td><td>33.85460</td></tr>\n",
       "</tbody>\n",
       "</table>\n"
      ],
      "text/latex": [
       "A tibble: 10 × 4\n",
       "\\begin{tabular}{llll}\n",
       " K & bias\\_squared & variance\\_mean & expected\\_test\\_error\\\\\n",
       " <dbl> & <dbl> & <dbl> & <dbl>\\\\\n",
       "\\hline\n",
       "\t  1 & 0.2798159 & 17.48784 & 33.76766\\\\\n",
       "\t  2 & 0.2560272 & 17.35161 & 33.60764\\\\\n",
       "\t  3 & 0.2266359 & 17.69080 & 33.91743\\\\\n",
       "\t  4 & 0.2644478 & 17.72424 & 33.98868\\\\\n",
       "\t  5 & 0.2550169 & 17.76873 & 34.02375\\\\\n",
       "\t  6 & 0.2520163 & 17.32626 & 33.57828\\\\\n",
       "\t  7 & 0.2440766 & 17.71019 & 33.95427\\\\\n",
       "\t  8 & 0.2319014 & 17.56337 & 33.79527\\\\\n",
       "\t  9 & 0.2322866 & 17.64130 & 33.87359\\\\\n",
       "\t 10 & 0.2401272 & 17.61447 & 33.85460\\\\\n",
       "\\end{tabular}\n"
      ],
      "text/markdown": [
       "\n",
       "A tibble: 10 × 4\n",
       "\n",
       "| K &lt;dbl&gt; | bias_squared &lt;dbl&gt; | variance_mean &lt;dbl&gt; | expected_test_error &lt;dbl&gt; |\n",
       "|---|---|---|---|\n",
       "|  1 | 0.2798159 | 17.48784 | 33.76766 |\n",
       "|  2 | 0.2560272 | 17.35161 | 33.60764 |\n",
       "|  3 | 0.2266359 | 17.69080 | 33.91743 |\n",
       "|  4 | 0.2644478 | 17.72424 | 33.98868 |\n",
       "|  5 | 0.2550169 | 17.76873 | 34.02375 |\n",
       "|  6 | 0.2520163 | 17.32626 | 33.57828 |\n",
       "|  7 | 0.2440766 | 17.71019 | 33.95427 |\n",
       "|  8 | 0.2319014 | 17.56337 | 33.79527 |\n",
       "|  9 | 0.2322866 | 17.64130 | 33.87359 |\n",
       "| 10 | 0.2401272 | 17.61447 | 33.85460 |\n",
       "\n"
      ],
      "text/plain": [
       "   K  bias_squared variance_mean expected_test_error\n",
       "1   1 0.2798159    17.48784      33.76766           \n",
       "2   2 0.2560272    17.35161      33.60764           \n",
       "3   3 0.2266359    17.69080      33.91743           \n",
       "4   4 0.2644478    17.72424      33.98868           \n",
       "5   5 0.2550169    17.76873      34.02375           \n",
       "6   6 0.2520163    17.32626      33.57828           \n",
       "7   7 0.2440766    17.71019      33.95427           \n",
       "8   8 0.2319014    17.56337      33.79527           \n",
       "9   9 0.2322866    17.64130      33.87359           \n",
       "10 10 0.2401272    17.61447      33.85460           "
      ]
     },
     "metadata": {},
     "output_type": "display_data"
    }
   ],
   "source": [
    "training_results_summary %>%\n",
    "    mutate(bias_squared = bias^2) %>%\n",
    "    group_by(K) %>%\n",
    "    summarize(bias_squared = mean(bias_squared),\n",
    "              variance_mean = mean(variance)) %>%\n",
    "    mutate(expected_test_error = bias_squared + variance_mean + 16)"
   ]
  }
 ],
 "metadata": {
  "kernelspec": {
   "display_name": "R",
   "language": "R",
   "name": "ir"
  },
  "language_info": {
   "codemirror_mode": "r",
   "file_extension": ".r",
   "mimetype": "text/x-r-source",
   "name": "R",
   "pygments_lexer": "r",
   "version": "4.1.3"
  }
 },
 "nbformat": 4,
 "nbformat_minor": 5
}
